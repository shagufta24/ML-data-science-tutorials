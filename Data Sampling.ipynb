{
 "cells": [
  {
   "cell_type": "markdown",
   "id": "687940a6",
   "metadata": {},
   "source": [
    "### Statistical Analysis of Data:\n",
    "- We can organize, summarize, and visualize large amounts of data to find patterns that otherwise would remain hidden.\n",
    "- We often use a small dataset (sample) to answer questions about a much larger dataset (population).\n",
    "\n",
    "**Population:** The set of all individuals/units relevant to a particular statistical question.<br>\n",
    "**Sample:** A smaller group selected from a population.\n",
    "\n",
    "Ex: We have data about the salaries of all the individuals in the company working in IT roles.\n",
    "In these cases, our data is:\n",
    "- Average salary of the individuals in our company working in IT roles - Population\n",
    "- Average salary of the individuals in the entire project - Sample\n",
    "\n",
    "**Parameter:**\n",
    "- Metric specific to a population.\n",
    "- Ex: Average salary of all employees.\n",
    "\n",
    "**Statistic:**\n",
    "- Metric specific to a sample.\n",
    "- Ex: Average salary of the IT employees.\n",
    "\n",
    "**Sampling Error:** The difference between the metrics of a population and the metrics of a sample."
   ]
  },
  {
   "cell_type": "code",
   "execution_count": 9,
   "id": "e58487db",
   "metadata": {},
   "outputs": [
    {
     "data": {
      "text/html": [
       "<div>\n",
       "<style scoped>\n",
       "    .dataframe tbody tr th:only-of-type {\n",
       "        vertical-align: middle;\n",
       "    }\n",
       "\n",
       "    .dataframe tbody tr th {\n",
       "        vertical-align: top;\n",
       "    }\n",
       "\n",
       "    .dataframe thead th {\n",
       "        text-align: right;\n",
       "    }\n",
       "</style>\n",
       "<table border=\"1\" class=\"dataframe\">\n",
       "  <thead>\n",
       "    <tr style=\"text-align: right;\">\n",
       "      <th></th>\n",
       "      <th>Name</th>\n",
       "      <th>Team</th>\n",
       "      <th>Pos</th>\n",
       "      <th>Height</th>\n",
       "      <th>Weight</th>\n",
       "      <th>BMI</th>\n",
       "      <th>Birth_Place</th>\n",
       "      <th>Birthdate</th>\n",
       "      <th>Age</th>\n",
       "      <th>College</th>\n",
       "      <th>...</th>\n",
       "      <th>OREB</th>\n",
       "      <th>DREB</th>\n",
       "      <th>REB</th>\n",
       "      <th>AST</th>\n",
       "      <th>STL</th>\n",
       "      <th>BLK</th>\n",
       "      <th>TO</th>\n",
       "      <th>PTS</th>\n",
       "      <th>DD2</th>\n",
       "      <th>TD3</th>\n",
       "    </tr>\n",
       "  </thead>\n",
       "  <tbody>\n",
       "    <tr>\n",
       "      <th>0</th>\n",
       "      <td>Aerial Powers</td>\n",
       "      <td>DAL</td>\n",
       "      <td>F</td>\n",
       "      <td>183</td>\n",
       "      <td>71.0</td>\n",
       "      <td>21.200991</td>\n",
       "      <td>US</td>\n",
       "      <td>January 17, 1994</td>\n",
       "      <td>23</td>\n",
       "      <td>Michigan State</td>\n",
       "      <td>...</td>\n",
       "      <td>6</td>\n",
       "      <td>22</td>\n",
       "      <td>28</td>\n",
       "      <td>12</td>\n",
       "      <td>3</td>\n",
       "      <td>6</td>\n",
       "      <td>12</td>\n",
       "      <td>93</td>\n",
       "      <td>0</td>\n",
       "      <td>0</td>\n",
       "    </tr>\n",
       "    <tr>\n",
       "      <th>1</th>\n",
       "      <td>Alana Beard</td>\n",
       "      <td>LA</td>\n",
       "      <td>G/F</td>\n",
       "      <td>185</td>\n",
       "      <td>73.0</td>\n",
       "      <td>21.329438</td>\n",
       "      <td>US</td>\n",
       "      <td>May 14, 1982</td>\n",
       "      <td>35</td>\n",
       "      <td>Duke</td>\n",
       "      <td>...</td>\n",
       "      <td>19</td>\n",
       "      <td>82</td>\n",
       "      <td>101</td>\n",
       "      <td>72</td>\n",
       "      <td>63</td>\n",
       "      <td>13</td>\n",
       "      <td>40</td>\n",
       "      <td>217</td>\n",
       "      <td>0</td>\n",
       "      <td>0</td>\n",
       "    </tr>\n",
       "    <tr>\n",
       "      <th>2</th>\n",
       "      <td>Alex Bentley</td>\n",
       "      <td>CON</td>\n",
       "      <td>G</td>\n",
       "      <td>170</td>\n",
       "      <td>69.0</td>\n",
       "      <td>23.875433</td>\n",
       "      <td>US</td>\n",
       "      <td>October 27, 1990</td>\n",
       "      <td>26</td>\n",
       "      <td>Penn State</td>\n",
       "      <td>...</td>\n",
       "      <td>4</td>\n",
       "      <td>36</td>\n",
       "      <td>40</td>\n",
       "      <td>78</td>\n",
       "      <td>22</td>\n",
       "      <td>3</td>\n",
       "      <td>24</td>\n",
       "      <td>218</td>\n",
       "      <td>0</td>\n",
       "      <td>0</td>\n",
       "    </tr>\n",
       "  </tbody>\n",
       "</table>\n",
       "<p>3 rows × 32 columns</p>\n",
       "</div>"
      ],
      "text/plain": [
       "            Name Team  Pos  Height  Weight        BMI Birth_Place  \\\n",
       "0  Aerial Powers  DAL    F     183    71.0  21.200991          US   \n",
       "1    Alana Beard   LA  G/F     185    73.0  21.329438          US   \n",
       "2   Alex Bentley  CON    G     170    69.0  23.875433          US   \n",
       "\n",
       "          Birthdate  Age         College  ... OREB  DREB  REB  AST  STL  BLK  \\\n",
       "0  January 17, 1994   23  Michigan State  ...    6    22   28   12    3    6   \n",
       "1      May 14, 1982   35            Duke  ...   19    82  101   72   63   13   \n",
       "2  October 27, 1990   26      Penn State  ...    4    36   40   78   22    3   \n",
       "\n",
       "   TO  PTS  DD2  TD3  \n",
       "0  12   93    0    0  \n",
       "1  40  217    0    0  \n",
       "2  24  218    0    0  \n",
       "\n",
       "[3 rows x 32 columns]"
      ]
     },
     "execution_count": 9,
     "metadata": {},
     "output_type": "execute_result"
    }
   ],
   "source": [
    "# Working with a dataset now\n",
    "\n",
    "import pandas as pd\n",
    "import numpy\n",
    "import matplotlib.pyplot as plt\n",
    "\n",
    "wnba = pd.read_csv('datasets/wnba.csv')\n",
    "wnba.head(3)"
   ]
  },
  {
   "cell_type": "markdown",
   "id": "9527ecd5",
   "metadata": {},
   "source": [
    "Find the maximum number of games played by a player using the \"Games Played\" column.<br>\n",
    "In this case, the dataset is a population, since it contains all the players who played at least one game.<br>\n",
    "So, the result (max games) will be a parameter."
   ]
  },
  {
   "cell_type": "code",
   "execution_count": 10,
   "id": "7cea9e4a",
   "metadata": {},
   "outputs": [
    {
     "data": {
      "text/plain": [
       "32"
      ]
     },
     "execution_count": 10,
     "metadata": {},
     "output_type": "execute_result"
    }
   ],
   "source": [
    "parameter=wnba['Games Played'].max()\n",
    "parameter"
   ]
  },
  {
   "cell_type": "markdown",
   "id": "108d21f6",
   "metadata": {},
   "source": [
    "Creating a random sample of 30 players from the population using the DataFrame.sample() method.<br>\n",
    "Note: random_state = n ensures reproducible results (we get the same sample each time).<br>\n",
    "\n",
    "The, find the maximum games played using this sample.<br>\n",
    "So, the result will be a statistic."
   ]
  },
  {
   "cell_type": "code",
   "execution_count": 19,
   "id": "c15fead9",
   "metadata": {},
   "outputs": [
    {
     "data": {
      "text/html": [
       "<div>\n",
       "<style scoped>\n",
       "    .dataframe tbody tr th:only-of-type {\n",
       "        vertical-align: middle;\n",
       "    }\n",
       "\n",
       "    .dataframe tbody tr th {\n",
       "        vertical-align: top;\n",
       "    }\n",
       "\n",
       "    .dataframe thead th {\n",
       "        text-align: right;\n",
       "    }\n",
       "</style>\n",
       "<table border=\"1\" class=\"dataframe\">\n",
       "  <thead>\n",
       "    <tr style=\"text-align: right;\">\n",
       "      <th></th>\n",
       "      <th>Name</th>\n",
       "      <th>Team</th>\n",
       "      <th>Pos</th>\n",
       "      <th>Height</th>\n",
       "      <th>Weight</th>\n",
       "      <th>BMI</th>\n",
       "      <th>Birth_Place</th>\n",
       "      <th>Birthdate</th>\n",
       "      <th>Age</th>\n",
       "      <th>College</th>\n",
       "      <th>...</th>\n",
       "      <th>OREB</th>\n",
       "      <th>DREB</th>\n",
       "      <th>REB</th>\n",
       "      <th>AST</th>\n",
       "      <th>STL</th>\n",
       "      <th>BLK</th>\n",
       "      <th>TO</th>\n",
       "      <th>PTS</th>\n",
       "      <th>DD2</th>\n",
       "      <th>TD3</th>\n",
       "    </tr>\n",
       "  </thead>\n",
       "  <tbody>\n",
       "    <tr>\n",
       "      <th>78</th>\n",
       "      <td>Keisha Hampton</td>\n",
       "      <td>CHI</td>\n",
       "      <td>F</td>\n",
       "      <td>185</td>\n",
       "      <td>78.0</td>\n",
       "      <td>22.790358</td>\n",
       "      <td>US</td>\n",
       "      <td>February 22, 1990</td>\n",
       "      <td>27</td>\n",
       "      <td>DePaul</td>\n",
       "      <td>...</td>\n",
       "      <td>36</td>\n",
       "      <td>59</td>\n",
       "      <td>95</td>\n",
       "      <td>24</td>\n",
       "      <td>20</td>\n",
       "      <td>7</td>\n",
       "      <td>21</td>\n",
       "      <td>207</td>\n",
       "      <td>0</td>\n",
       "      <td>0</td>\n",
       "    </tr>\n",
       "    <tr>\n",
       "      <th>116</th>\n",
       "      <td>Saniya Chong</td>\n",
       "      <td>DAL</td>\n",
       "      <td>G</td>\n",
       "      <td>173</td>\n",
       "      <td>64.0</td>\n",
       "      <td>21.383942</td>\n",
       "      <td>US</td>\n",
       "      <td>June 27, 1994</td>\n",
       "      <td>23</td>\n",
       "      <td>Connecticut</td>\n",
       "      <td>...</td>\n",
       "      <td>9</td>\n",
       "      <td>19</td>\n",
       "      <td>28</td>\n",
       "      <td>33</td>\n",
       "      <td>21</td>\n",
       "      <td>3</td>\n",
       "      <td>23</td>\n",
       "      <td>87</td>\n",
       "      <td>0</td>\n",
       "      <td>0</td>\n",
       "    </tr>\n",
       "    <tr>\n",
       "      <th>31</th>\n",
       "      <td>Carolyn Swords</td>\n",
       "      <td>SEA</td>\n",
       "      <td>C</td>\n",
       "      <td>198</td>\n",
       "      <td>95.0</td>\n",
       "      <td>24.232221</td>\n",
       "      <td>US</td>\n",
       "      <td>July 19, 1989</td>\n",
       "      <td>28</td>\n",
       "      <td>Boston College</td>\n",
       "      <td>...</td>\n",
       "      <td>10</td>\n",
       "      <td>29</td>\n",
       "      <td>39</td>\n",
       "      <td>9</td>\n",
       "      <td>5</td>\n",
       "      <td>4</td>\n",
       "      <td>22</td>\n",
       "      <td>54</td>\n",
       "      <td>0</td>\n",
       "      <td>0</td>\n",
       "    </tr>\n",
       "  </tbody>\n",
       "</table>\n",
       "<p>3 rows × 32 columns</p>\n",
       "</div>"
      ],
      "text/plain": [
       "               Name Team Pos  Height  Weight        BMI Birth_Place  \\\n",
       "78   Keisha Hampton  CHI   F     185    78.0  22.790358          US   \n",
       "116    Saniya Chong  DAL   G     173    64.0  21.383942          US   \n",
       "31   Carolyn Swords  SEA   C     198    95.0  24.232221          US   \n",
       "\n",
       "             Birthdate  Age         College  ... OREB  DREB  REB  AST  STL  \\\n",
       "78   February 22, 1990   27          DePaul  ...   36    59   95   24   20   \n",
       "116      June 27, 1994   23     Connecticut  ...    9    19   28   33   21   \n",
       "31       July 19, 1989   28  Boston College  ...   10    29   39    9    5   \n",
       "\n",
       "     BLK  TO  PTS  DD2  TD3  \n",
       "78     7  21  207    0    0  \n",
       "116    3  23   87    0    0  \n",
       "31     4  22   54    0    0  \n",
       "\n",
       "[3 rows x 32 columns]"
      ]
     },
     "execution_count": 19,
     "metadata": {},
     "output_type": "execute_result"
    }
   ],
   "source": [
    "sample=wnba.sample(random_state=1, n=30)\n",
    "sample.head(3)"
   ]
  },
  {
   "cell_type": "code",
   "execution_count": 20,
   "id": "91cef24a",
   "metadata": {},
   "outputs": [
    {
     "data": {
      "text/plain": [
       "30"
      ]
     },
     "execution_count": 20,
     "metadata": {},
     "output_type": "execute_result"
    }
   ],
   "source": [
    "statistic=sample['Games Played'].max()\n",
    "statistic"
   ]
  },
  {
   "cell_type": "code",
   "execution_count": 21,
   "id": "69f61f4c",
   "metadata": {},
   "outputs": [
    {
     "data": {
      "text/plain": [
       "2"
      ]
     },
     "execution_count": 21,
     "metadata": {},
     "output_type": "execute_result"
    }
   ],
   "source": [
    "sampling_error=parameter-statistic\n",
    "sampling_error"
   ]
  },
  {
   "cell_type": "markdown",
   "id": "e0c34b62",
   "metadata": {},
   "source": [
    "Samples should be representative of their corresponding populations. \n",
    "**The more representative a sample is, the smaller the sampling error.**\n",
    "<br>We can try to give every individual in the population an equal chance for selection in our samples by doing **random sampling**.\n",
    "\n",
    "**Simple random sampling (SRS):** Generate random numbers and use them to select sample units from the population.<br>\n",
    "Dataframe.sample() and Series.sample() methods use this.\n",
    "\n",
    "Take 100 samples of 10 values each from the \"PTS\" column using simple random sampling. For each sample, measure the average points scored by a player.<br>\n",
    "Next, find the population mean from the \"PTS\" column. Compare the means."
   ]
  },
  {
   "cell_type": "code",
   "execution_count": 54,
   "id": "8e3a0534",
   "metadata": {},
   "outputs": [],
   "source": [
    "# Finding sample means\n",
    "# Loop 100 times to sample the dataset, change the random state each time\n",
    "\n",
    "sample_means = []\n",
    "\n",
    "for i in range(100):\n",
    "    sample = wnba['PTS'].sample(40, random_state=i)\n",
    "    sample_means.append(sample.mean())"
   ]
  },
  {
   "cell_type": "code",
   "execution_count": 55,
   "id": "1ec96125",
   "metadata": {},
   "outputs": [],
   "source": [
    "population_mean = wnba['PTS'].mean()"
   ]
  },
  {
   "cell_type": "code",
   "execution_count": 56,
   "id": "6c6a4dff",
   "metadata": {},
   "outputs": [
    {
     "data": {
      "image/png": "[encoded data removed]",
      "text/plain": [
       "<Figure size 432x288 with 1 Axes>"
      ]
     },
     "metadata": {
      "needs_background": "light"
     },
     "output_type": "display_data"
    }
   ],
   "source": [
    "# Visualizing them to compare\n",
    "\n",
    "plt.scatter(range(1,101), sample_means)\n",
    "plt.axhline(population_mean)\n",
    "plt.xlabel(\"Sample number\")\n",
    "plt.ylabel(\"Mean points scored\")\n",
    "plt.show()"
   ]
  },
  {
   "cell_type": "markdown",
   "id": "842659af",
   "metadata": {},
   "source": [
    "The sample means varies a lot around the population mean (sampling error is very high for many samples).<br>\n",
    "We can solve this problem by increasing the sample size. <br>\n",
    "As we increase the sample size, the sample means vary less around the population mean."
   ]
  },
  {
   "cell_type": "code",
   "execution_count": null,
   "id": "a56fcb9d",
   "metadata": {},
   "outputs": [],
   "source": []
  }
 ],
 "metadata": {
  "kernelspec": {
   "display_name": "Python 3 (ipykernel)",
   "language": "python",
   "name": "python3"
  },
  "language_info": {
   "codemirror_mode": {
    "name": "ipython",
    "version": 3
   },
   "file_extension": ".py",
   "mimetype": "text/x-python",
   "name": "python",
   "nbconvert_exporter": "python",
   "pygments_lexer": "ipython3",
   "version": "3.9.6"
  }
 },
 "nbformat": 4,
 "nbformat_minor": 5
}
