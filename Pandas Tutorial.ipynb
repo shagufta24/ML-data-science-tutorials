{
 "cells": [
  {
   "cell_type": "markdown",
   "id": "f9a3c735",
   "metadata": {},
   "source": [
    "# Pandas Tutorial"
   ]
  },
  {
   "cell_type": "code",
   "execution_count": 1,
   "id": "90f5ad26",
   "metadata": {},
   "outputs": [],
   "source": [
    "import pandas as pd"
   ]
  },
  {
   "cell_type": "markdown",
   "id": "8a00602e",
   "metadata": {},
   "source": [
    "## Series"
   ]
  },
  {
   "cell_type": "code",
   "execution_count": 2,
   "id": "4e0afb1a",
   "metadata": {},
   "outputs": [
    {
     "data": {
      "text/plain": [
       "0    10\n",
       "1    20\n",
       "2    30\n",
       "3    40\n",
       "4    50\n",
       "dtype: int64"
      ]
     },
     "execution_count": 2,
     "metadata": {},
     "output_type": "execute_result"
    }
   ],
   "source": [
    "#Pandas series\n",
    "ser = pd.Series([10, 20, 30, 40, 50])\n",
    "ser2 = pd.Series([15, 93, 5, 27, 9])\n",
    "ser"
   ]
  },
  {
   "cell_type": "code",
   "execution_count": 3,
   "id": "46daa4b5",
   "metadata": {},
   "outputs": [
    {
     "name": "stdout",
     "output_type": "stream",
     "text": [
      "[10, 20, 30, 40, 50]\n",
      "0    10\n",
      "1    20\n",
      "2    30\n",
      "3    40\n",
      "4    50\n",
      "dtype: int64\n"
     ]
    }
   ],
   "source": [
    "#Series to list\n",
    "ls = ser.tolist()\n",
    "print(ls)\n",
    "\n",
    "#List to series\n",
    "ser = pd.Series(ls)\n",
    "print(ser)"
   ]
  },
  {
   "cell_type": "code",
   "execution_count": 4,
   "id": "0bc70af4",
   "metadata": {},
   "outputs": [
    {
     "data": {
      "text/plain": [
       "0     25\n",
       "1    113\n",
       "2     35\n",
       "3     67\n",
       "4     59\n",
       "dtype: int64"
      ]
     },
     "execution_count": 4,
     "metadata": {},
     "output_type": "execute_result"
    }
   ],
   "source": [
    "#Add series\n",
    "ser3 = ser + ser2\n",
    "ser3"
   ]
  },
  {
   "cell_type": "code",
   "execution_count": 5,
   "id": "1da78e4f",
   "metadata": {},
   "outputs": [
    {
     "data": {
      "text/plain": [
       "0     True\n",
       "1     True\n",
       "2    False\n",
       "3    False\n",
       "4    False\n",
       "dtype: bool"
      ]
     },
     "execution_count": 5,
     "metadata": {},
     "output_type": "execute_result"
    }
   ],
   "source": [
    "#Compare series\n",
    "ser2 > ser"
   ]
  },
  {
   "cell_type": "code",
   "execution_count": 12,
   "id": "c7b959d4",
   "metadata": {},
   "outputs": [
    {
     "data": {
      "text/plain": [
       "a    100\n",
       "b    200\n",
       "c    300\n",
       "d    400\n",
       "e    800\n",
       "dtype: int64"
      ]
     },
     "execution_count": 12,
     "metadata": {},
     "output_type": "execute_result"
    }
   ],
   "source": [
    "#Dict to series\n",
    "d = {'a': 100, 'b': 200, 'c':300, 'd':400, 'e':800}\n",
    "pd.Series(d)"
   ]
  },
  {
   "cell_type": "code",
   "execution_count": 13,
   "id": "09c02a83",
   "metadata": {},
   "outputs": [
    {
     "data": {
      "text/plain": [
       "year 1    30000\n",
       "year 2    35000\n",
       "year 3    40000\n",
       "Name: Product A, dtype: int64"
      ]
     },
     "execution_count": 13,
     "metadata": {},
     "output_type": "execute_result"
    }
   ],
   "source": [
    "#Custom indices and name\n",
    "sr = pd.Series([30000, 35000, 40000], \n",
    "          index=['year 1', 'year 2', 'year 3'], \n",
    "          name='Product A')\n",
    "sr"
   ]
  },
  {
   "cell_type": "code",
   "execution_count": 14,
   "id": "d2e847f6",
   "metadata": {},
   "outputs": [
    {
     "name": "stdout",
     "output_type": "stream",
     "text": [
      "2015 sales    30000\n",
      "2016 sales    35000\n",
      "2017 sales    40000\n",
      "Name: Product A, dtype: int64\n",
      "['2015 sales', '2016 sales', '2017 sales']\n"
     ]
    }
   ],
   "source": [
    "# Setting indices\n",
    "sr.index = ['2015 sales', '2016 sales', '2017 sales']\n",
    "print(sr)\n",
    "\n",
    "# Getting indices\n",
    "print([i for i in sr.index])"
   ]
  },
  {
   "cell_type": "markdown",
   "id": "bedd46ba",
   "metadata": {},
   "source": [
    "## Dataframe"
   ]
  },
  {
   "cell_type": "code",
   "execution_count": 15,
   "id": "586db981",
   "metadata": {},
   "outputs": [
    {
     "data": {
      "text/html": [
       "<div>\n",
       "<style scoped>\n",
       "    .dataframe tbody tr th:only-of-type {\n",
       "        vertical-align: middle;\n",
       "    }\n",
       "\n",
       "    .dataframe tbody tr th {\n",
       "        vertical-align: top;\n",
       "    }\n",
       "\n",
       "    .dataframe thead th {\n",
       "        text-align: right;\n",
       "    }\n",
       "</style>\n",
       "<table border=\"1\" class=\"dataframe\">\n",
       "  <thead>\n",
       "    <tr style=\"text-align: right;\">\n",
       "      <th></th>\n",
       "      <th>Bob</th>\n",
       "      <th>Sue</th>\n",
       "    </tr>\n",
       "  </thead>\n",
       "  <tbody>\n",
       "    <tr>\n",
       "      <th>0</th>\n",
       "      <td>I liked it.</td>\n",
       "      <td>Pretty good.</td>\n",
       "    </tr>\n",
       "    <tr>\n",
       "      <th>1</th>\n",
       "      <td>It was awful.</td>\n",
       "      <td>Bland.</td>\n",
       "    </tr>\n",
       "  </tbody>\n",
       "</table>\n",
       "</div>"
      ],
      "text/plain": [
       "             Bob           Sue\n",
       "0    I liked it.  Pretty good.\n",
       "1  It was awful.        Bland."
      ]
     },
     "execution_count": 15,
     "metadata": {},
     "output_type": "execute_result"
    }
   ],
   "source": [
    "#Pandas Dataframe\n",
    "tempdf = pd.DataFrame({'Bob': ['I liked it.', 'It was awful.'], \n",
    "              'Sue': ['Pretty good.', 'Bland.']})\n",
    "#keys: column names, values: entries for column\n",
    "tempdf"
   ]
  },
  {
   "cell_type": "code",
   "execution_count": 16,
   "id": "5a197729",
   "metadata": {},
   "outputs": [
    {
     "data": {
      "text/html": [
       "<div>\n",
       "<style scoped>\n",
       "    .dataframe tbody tr th:only-of-type {\n",
       "        vertical-align: middle;\n",
       "    }\n",
       "\n",
       "    .dataframe tbody tr th {\n",
       "        vertical-align: top;\n",
       "    }\n",
       "\n",
       "    .dataframe thead th {\n",
       "        text-align: right;\n",
       "    }\n",
       "</style>\n",
       "<table border=\"1\" class=\"dataframe\">\n",
       "  <thead>\n",
       "    <tr style=\"text-align: right;\">\n",
       "      <th></th>\n",
       "      <th>Bob</th>\n",
       "      <th>Sue</th>\n",
       "    </tr>\n",
       "  </thead>\n",
       "  <tbody>\n",
       "    <tr>\n",
       "      <th>Product A</th>\n",
       "      <td>I liked it.</td>\n",
       "      <td>Pretty good.</td>\n",
       "    </tr>\n",
       "    <tr>\n",
       "      <th>Product B</th>\n",
       "      <td>It was awful.</td>\n",
       "      <td>Bland.</td>\n",
       "    </tr>\n",
       "  </tbody>\n",
       "</table>\n",
       "</div>"
      ],
      "text/plain": [
       "                     Bob           Sue\n",
       "Product A    I liked it.  Pretty good.\n",
       "Product B  It was awful.        Bland."
      ]
     },
     "execution_count": 16,
     "metadata": {},
     "output_type": "execute_result"
    }
   ],
   "source": [
    "#Custom indices\n",
    "pd.DataFrame({'Bob': ['I liked it.', 'It was awful.'], \n",
    "              'Sue': ['Pretty good.', 'Bland.']},\n",
    "             index=['Product A', 'Product B'])"
   ]
  },
  {
   "cell_type": "code",
   "execution_count": 17,
   "id": "1cd6cfb9",
   "metadata": {},
   "outputs": [],
   "source": [
    "#Read dataframe to csv \n",
    "#tempdf.to_csv('tempdf.csv')"
   ]
  },
  {
   "cell_type": "code",
   "execution_count": 19,
   "id": "f28fa299",
   "metadata": {},
   "outputs": [
    {
     "data": {
      "text/html": [
       "<div>\n",
       "<style scoped>\n",
       "    .dataframe tbody tr th:only-of-type {\n",
       "        vertical-align: middle;\n",
       "    }\n",
       "\n",
       "    .dataframe tbody tr th {\n",
       "        vertical-align: top;\n",
       "    }\n",
       "\n",
       "    .dataframe thead th {\n",
       "        text-align: right;\n",
       "    }\n",
       "</style>\n",
       "<table border=\"1\" class=\"dataframe\">\n",
       "  <thead>\n",
       "    <tr style=\"text-align: right;\">\n",
       "      <th></th>\n",
       "      <th>Title</th>\n",
       "      <th>Genre</th>\n",
       "      <th>Premiere</th>\n",
       "      <th>No_of_Seasons</th>\n",
       "      <th>No_of_Episodes</th>\n",
       "    </tr>\n",
       "  </thead>\n",
       "  <tbody>\n",
       "    <tr>\n",
       "      <th>0</th>\n",
       "      <td>Stranger Things</td>\n",
       "      <td>Science Fiction Horror</td>\n",
       "      <td>July 15, 2016</td>\n",
       "      <td>3</td>\n",
       "      <td>25</td>\n",
       "    </tr>\n",
       "    <tr>\n",
       "      <th>1</th>\n",
       "      <td>The Crown</td>\n",
       "      <td>Historical Drama</td>\n",
       "      <td>November 4, 2016</td>\n",
       "      <td>4</td>\n",
       "      <td>40</td>\n",
       "    </tr>\n",
       "    <tr>\n",
       "      <th>2</th>\n",
       "      <td>Ozark</td>\n",
       "      <td>Crime Drama</td>\n",
       "      <td>July 21, 2017</td>\n",
       "      <td>3</td>\n",
       "      <td>30</td>\n",
       "    </tr>\n",
       "    <tr>\n",
       "      <th>3</th>\n",
       "      <td>Lost in Space</td>\n",
       "      <td>Science Fiction</td>\n",
       "      <td>April 13, 2018</td>\n",
       "      <td>2</td>\n",
       "      <td>20</td>\n",
       "    </tr>\n",
       "    <tr>\n",
       "      <th>4</th>\n",
       "      <td>Narcos: Mexico</td>\n",
       "      <td>Crime Drama</td>\n",
       "      <td>November 16, 2018</td>\n",
       "      <td>2</td>\n",
       "      <td>20</td>\n",
       "    </tr>\n",
       "  </tbody>\n",
       "</table>\n",
       "</div>"
      ],
      "text/plain": [
       "             Title                   Genre           Premiere No_of_Seasons  \\\n",
       "0  Stranger Things  Science Fiction Horror      July 15, 2016             3   \n",
       "1        The Crown        Historical Drama   November 4, 2016             4   \n",
       "2            Ozark             Crime Drama      July 21, 2017             3   \n",
       "3    Lost in Space         Science Fiction     April 13, 2018             2   \n",
       "4   Narcos: Mexico             Crime Drama  November 16, 2018             2   \n",
       "\n",
       "  No_of_Episodes  \n",
       "0             25  \n",
       "1             40  \n",
       "2             30  \n",
       "3             20  \n",
       "4             20  "
      ]
     },
     "execution_count": 19,
     "metadata": {},
     "output_type": "execute_result"
    }
   ],
   "source": [
    "#Read csv to dataframe\n",
    "df = pd.read_csv(\"datasets/tv_shows.csv\")\n",
    "df.head()"
   ]
  },
  {
   "cell_type": "code",
   "execution_count": 20,
   "id": "6dfe1ebb",
   "metadata": {},
   "outputs": [
    {
     "data": {
      "text/html": [
       "<div>\n",
       "<style scoped>\n",
       "    .dataframe tbody tr th:only-of-type {\n",
       "        vertical-align: middle;\n",
       "    }\n",
       "\n",
       "    .dataframe tbody tr th {\n",
       "        vertical-align: top;\n",
       "    }\n",
       "\n",
       "    .dataframe thead th {\n",
       "        text-align: right;\n",
       "    }\n",
       "</style>\n",
       "<table border=\"1\" class=\"dataframe\">\n",
       "  <thead>\n",
       "    <tr style=\"text-align: right;\">\n",
       "      <th></th>\n",
       "      <th>Genre</th>\n",
       "      <th>Premiere</th>\n",
       "      <th>No_of_Seasons</th>\n",
       "      <th>No_of_Episodes</th>\n",
       "    </tr>\n",
       "    <tr>\n",
       "      <th>Title</th>\n",
       "      <th></th>\n",
       "      <th></th>\n",
       "      <th></th>\n",
       "      <th></th>\n",
       "    </tr>\n",
       "  </thead>\n",
       "  <tbody>\n",
       "    <tr>\n",
       "      <th>Stranger Things</th>\n",
       "      <td>Science Fiction Horror</td>\n",
       "      <td>July 15, 2016</td>\n",
       "      <td>3</td>\n",
       "      <td>25</td>\n",
       "    </tr>\n",
       "    <tr>\n",
       "      <th>The Crown</th>\n",
       "      <td>Historical Drama</td>\n",
       "      <td>November 4, 2016</td>\n",
       "      <td>4</td>\n",
       "      <td>40</td>\n",
       "    </tr>\n",
       "    <tr>\n",
       "      <th>Ozark</th>\n",
       "      <td>Crime Drama</td>\n",
       "      <td>July 21, 2017</td>\n",
       "      <td>3</td>\n",
       "      <td>30</td>\n",
       "    </tr>\n",
       "    <tr>\n",
       "      <th>Lost in Space</th>\n",
       "      <td>Science Fiction</td>\n",
       "      <td>April 13, 2018</td>\n",
       "      <td>2</td>\n",
       "      <td>20</td>\n",
       "    </tr>\n",
       "    <tr>\n",
       "      <th>Narcos: Mexico</th>\n",
       "      <td>Crime Drama</td>\n",
       "      <td>November 16, 2018</td>\n",
       "      <td>2</td>\n",
       "      <td>20</td>\n",
       "    </tr>\n",
       "  </tbody>\n",
       "</table>\n",
       "</div>"
      ],
      "text/plain": [
       "                                  Genre           Premiere No_of_Seasons  \\\n",
       "Title                                                                      \n",
       "Stranger Things  Science Fiction Horror      July 15, 2016             3   \n",
       "The Crown              Historical Drama   November 4, 2016             4   \n",
       "Ozark                       Crime Drama      July 21, 2017             3   \n",
       "Lost in Space           Science Fiction     April 13, 2018             2   \n",
       "Narcos: Mexico              Crime Drama  November 16, 2018             2   \n",
       "\n",
       "                No_of_Episodes  \n",
       "Title                           \n",
       "Stranger Things             25  \n",
       "The Crown                   40  \n",
       "Ozark                       30  \n",
       "Lost in Space               20  \n",
       "Narcos: Mexico              20  "
      ]
     },
     "execution_count": 20,
     "metadata": {},
     "output_type": "execute_result"
    }
   ],
   "source": [
    "# Can also set a column as index\n",
    "df_indexed = pd.read_csv(\"datasets/tv_shows.csv\", index_col = 0)\n",
    "df_indexed.head()"
   ]
  },
  {
   "cell_type": "code",
   "execution_count": 21,
   "id": "68a77da2",
   "metadata": {},
   "outputs": [
    {
     "data": {
      "text/plain": [
       "(641, 5)"
      ]
     },
     "execution_count": 21,
     "metadata": {},
     "output_type": "execute_result"
    }
   ],
   "source": [
    "# Number of rows and cols\n",
    "df.shape"
   ]
  },
  {
   "cell_type": "code",
   "execution_count": 22,
   "id": "d2fca2d8",
   "metadata": {},
   "outputs": [
    {
     "name": "stdout",
     "output_type": "stream",
     "text": [
      "Index(['Title', 'Genre', 'Premiere', 'No_of_Seasons', 'No_of_Episodes'], dtype='object')\n",
      "Index(['title', 'genre', 'premiere', 'seasons', 'episodes'], dtype='object')\n"
     ]
    }
   ],
   "source": [
    "# Get column names\n",
    "print(df.columns)\n",
    "\n",
    "#Renaming columns\n",
    "columns = ['title', 'genre', 'premiere', 'seasons', 'episodes']\n",
    "df.columns = columns\n",
    "print(df.columns)"
   ]
  },
  {
   "cell_type": "code",
   "execution_count": 24,
   "id": "7913a272",
   "metadata": {},
   "outputs": [
    {
     "data": {
      "text/html": [
       "<div>\n",
       "<style scoped>\n",
       "    .dataframe tbody tr th:only-of-type {\n",
       "        vertical-align: middle;\n",
       "    }\n",
       "\n",
       "    .dataframe tbody tr th {\n",
       "        vertical-align: top;\n",
       "    }\n",
       "\n",
       "    .dataframe thead th {\n",
       "        text-align: right;\n",
       "    }\n",
       "</style>\n",
       "<table border=\"1\" class=\"dataframe\">\n",
       "  <thead>\n",
       "    <tr style=\"text-align: right;\">\n",
       "      <th></th>\n",
       "      <th>Premiere</th>\n",
       "      <th>No_of_Seasons</th>\n",
       "      <th>No_of_Episodes</th>\n",
       "    </tr>\n",
       "    <tr>\n",
       "      <th>Genre</th>\n",
       "      <th></th>\n",
       "      <th></th>\n",
       "      <th></th>\n",
       "    </tr>\n",
       "  </thead>\n",
       "  <tbody>\n",
       "    <tr>\n",
       "      <th>Science Fiction Horror</th>\n",
       "      <td>July 15, 2016</td>\n",
       "      <td>3</td>\n",
       "      <td>25</td>\n",
       "    </tr>\n",
       "    <tr>\n",
       "      <th>Historical Drama</th>\n",
       "      <td>November 4, 2016</td>\n",
       "      <td>4</td>\n",
       "      <td>40</td>\n",
       "    </tr>\n",
       "    <tr>\n",
       "      <th>Crime Drama</th>\n",
       "      <td>July 21, 2017</td>\n",
       "      <td>3</td>\n",
       "      <td>30</td>\n",
       "    </tr>\n",
       "    <tr>\n",
       "      <th>Science Fiction</th>\n",
       "      <td>April 13, 2018</td>\n",
       "      <td>2</td>\n",
       "      <td>20</td>\n",
       "    </tr>\n",
       "    <tr>\n",
       "      <th>Crime Drama</th>\n",
       "      <td>November 16, 2018</td>\n",
       "      <td>2</td>\n",
       "      <td>20</td>\n",
       "    </tr>\n",
       "  </tbody>\n",
       "</table>\n",
       "</div>"
      ],
      "text/plain": [
       "                                 Premiere No_of_Seasons No_of_Episodes\n",
       "Genre                                                                 \n",
       "Science Fiction Horror      July 15, 2016             3             25\n",
       "Historical Drama         November 4, 2016             4             40\n",
       "Crime Drama                 July 21, 2017             3             30\n",
       "Science Fiction            April 13, 2018             2             20\n",
       "Crime Drama             November 16, 2018             2             20"
      ]
     },
     "execution_count": 24,
     "metadata": {},
     "output_type": "execute_result"
    }
   ],
   "source": [
    "#To set a column as index\n",
    "df1 = pd.read_csv(\"datasets/tv_shows.csv\", index_col=0) \n",
    "\n",
    "#or,\n",
    "df1 = df1.set_index('Genre')\n",
    "df1.head()"
   ]
  },
  {
   "cell_type": "code",
   "execution_count": 25,
   "id": "6b47d074",
   "metadata": {},
   "outputs": [
    {
     "name": "stdout",
     "output_type": "stream",
     "text": [
      "0                        Stranger Things\n",
      "1                              The Crown\n",
      "2                                  Ozark\n",
      "3                          Lost in Space\n",
      "4                         Narcos: Mexico\n",
      "                     ...                \n",
      "636                        The Last Narc\n",
      "637    All or Nothing: Tottenham Hotspur\n",
      "638                             Fernando\n",
      "639                      El Desafío: ETA\n",
      "640                  James May: Oh Cook!\n",
      "Name: title, Length: 641, dtype: object\n",
      "<class 'pandas.core.series.Series'>\n"
     ]
    }
   ],
   "source": [
    "#Column\n",
    "col = df.title\n",
    "#or\n",
    "col = df[\"title\"]\n",
    "\n",
    "print(col)\n",
    "print(type(col)) #Series"
   ]
  },
  {
   "cell_type": "markdown",
   "id": "fb822893",
   "metadata": {},
   "source": [
    "### Indexing"
   ]
  },
  {
   "cell_type": "code",
   "execution_count": 26,
   "id": "b65a032e",
   "metadata": {},
   "outputs": [
    {
     "data": {
      "text/plain": [
       "'Stranger Things'"
      ]
     },
     "execution_count": 26,
     "metadata": {},
     "output_type": "execute_result"
    }
   ],
   "source": [
    "#Index based selection: iloc\n",
    "#Selecting rows and columns\n",
    "\n",
    "df.iloc[:] # All rows\n",
    "df.iloc[0] # Row 0\n",
    "df.iloc[0:10] # Rows 0 to 9\n",
    "df.iloc[[1, 2, 3]] # Rows 1, 2, 3\n",
    "df.iloc[:, 1] # Column 1\n",
    "df.iloc[0:10, 1] # Rows 0 to 9, Column 1\n",
    "df.iloc[[1, 2, 3], [0]] # Rows 1, 2, 3 and Column 0\n",
    "df.iloc[:5, :3] # Rows 0 to 4, Columns 0 to 2\n",
    "df.iloc[-5] # Row 5 from the bottom\n",
    "\n",
    "#Selecting single entry\n",
    "df.iloc[0][0]"
   ]
  },
  {
   "cell_type": "code",
   "execution_count": 27,
   "id": "b31849da",
   "metadata": {},
   "outputs": [
    {
     "data": {
      "text/html": [
       "<div>\n",
       "<style scoped>\n",
       "    .dataframe tbody tr th:only-of-type {\n",
       "        vertical-align: middle;\n",
       "    }\n",
       "\n",
       "    .dataframe tbody tr th {\n",
       "        vertical-align: top;\n",
       "    }\n",
       "\n",
       "    .dataframe thead th {\n",
       "        text-align: right;\n",
       "    }\n",
       "</style>\n",
       "<table border=\"1\" class=\"dataframe\">\n",
       "  <thead>\n",
       "    <tr style=\"text-align: right;\">\n",
       "      <th></th>\n",
       "      <th>title</th>\n",
       "      <th>genre</th>\n",
       "      <th>premiere</th>\n",
       "    </tr>\n",
       "  </thead>\n",
       "  <tbody>\n",
       "    <tr>\n",
       "      <th>4</th>\n",
       "      <td>Narcos: Mexico</td>\n",
       "      <td>Crime Drama</td>\n",
       "      <td>November 16, 2018</td>\n",
       "    </tr>\n",
       "    <tr>\n",
       "      <th>5</th>\n",
       "      <td>The Umbrella Academy</td>\n",
       "      <td>Superhero Action</td>\n",
       "      <td>February 15, 2019</td>\n",
       "    </tr>\n",
       "    <tr>\n",
       "      <th>6</th>\n",
       "      <td>Black Summer</td>\n",
       "      <td>Zombie Drama</td>\n",
       "      <td>April 11, 2019</td>\n",
       "    </tr>\n",
       "    <tr>\n",
       "      <th>7</th>\n",
       "      <td>Another Life</td>\n",
       "      <td>Science Fiction Drama</td>\n",
       "      <td>July 25, 2019</td>\n",
       "    </tr>\n",
       "    <tr>\n",
       "      <th>8</th>\n",
       "      <td>Criminal: UK</td>\n",
       "      <td>Police Procedural Anthology Series</td>\n",
       "      <td>September 20, 2019</td>\n",
       "    </tr>\n",
       "  </tbody>\n",
       "</table>\n",
       "</div>"
      ],
      "text/plain": [
       "                  title                               genre  \\\n",
       "4        Narcos: Mexico                         Crime Drama   \n",
       "5  The Umbrella Academy                    Superhero Action   \n",
       "6          Black Summer                        Zombie Drama   \n",
       "7          Another Life               Science Fiction Drama   \n",
       "8          Criminal: UK  Police Procedural Anthology Series   \n",
       "\n",
       "             premiere  \n",
       "4   November 16, 2018  \n",
       "5   February 15, 2019  \n",
       "6      April 11, 2019  \n",
       "7       July 25, 2019  \n",
       "8  September 20, 2019  "
      ]
     },
     "execution_count": 27,
     "metadata": {},
     "output_type": "execute_result"
    }
   ],
   "source": [
    "#Label based selection for df: loc\n",
    "\n",
    "# Single row\n",
    "df.loc[0] #Pass row label\n",
    "\n",
    "# Multiple rows\n",
    "df.loc[[0,1,2]]\n",
    "\n",
    "# Slicing rows\n",
    "df.loc[6:9] # Inclusive\n",
    "#or\n",
    "df[6:9] # Slicing without loc is only for row selection\n",
    "\n",
    "# Single column\n",
    "df.loc[:, 'genre']\n",
    "\n",
    "# Multiple columns\n",
    "df.loc[:, ['title', 'episodes']]\n",
    "\n",
    "# Slicing columns\n",
    "df.loc[:, 'title':'premiere']\n",
    "\n",
    "# Specific rows and columns\n",
    "df.loc[[5, 7, 10], ['title', 'genre']] \n",
    "\n",
    "# Slicing rows and columns\n",
    "df.loc[4:8, 'title':'premiere']"
   ]
  },
  {
   "cell_type": "code",
   "execution_count": 29,
   "id": "52e4926c",
   "metadata": {},
   "outputs": [
    {
     "data": {
      "text/plain": [
       "3          Science Fiction\n",
       "4              Crime Drama\n",
       "5         Superhero Action\n",
       "6             Zombie Drama\n",
       "7    Science Fiction Drama\n",
       "Name: genre, dtype: object"
      ]
     },
     "execution_count": 29,
     "metadata": {},
     "output_type": "execute_result"
    }
   ],
   "source": [
    "# Label based indexing for series\n",
    "s = df['genre']\n",
    "\n",
    "# Single item\n",
    "s.loc[0]\n",
    "s[0]\n",
    "\n",
    "# Multiple items\n",
    "s.loc[[2, 6, 9]]\n",
    "s[[2, 6, 9]]\n",
    "\n",
    "# Slice of items\n",
    "s.loc[3:8]\n",
    "s[3:8]"
   ]
  },
  {
   "cell_type": "markdown",
   "id": "d60c36f5",
   "metadata": {},
   "source": [
    "- With loc[], the ending slice is included.\n",
    "- With iloc[], the ending slice is not included."
   ]
  },
  {
   "cell_type": "markdown",
   "id": "35dad091",
   "metadata": {},
   "source": [
    "value_counts(): This method for a series(column) displays each unique non-null value and their counts in order."
   ]
  },
  {
   "cell_type": "code",
   "execution_count": 22,
   "id": "43c55bd8",
   "metadata": {},
   "outputs": [
    {
     "data": {
      "text/plain": [
       "Docu Series                                  78\n",
       "Comedy                                       60\n",
       "Drama                                        35\n",
       "Comedy Drama                                 30\n",
       "Crime Drama                                  25\n",
       "                                             ..\n",
       "Superhero Fiction Crime Drama Legal Drama     1\n",
       "Horror Thriller                               1\n",
       "Coming Of Age Documentary                     1\n",
       "Making Of                                     1\n",
       "Cooking Show                                  1\n",
       "Name: genre, Length: 171, dtype: int64"
      ]
     },
     "execution_count": 22,
     "metadata": {},
     "output_type": "execute_result"
    }
   ],
   "source": [
    "s.value_counts()"
   ]
  },
  {
   "cell_type": "code",
   "execution_count": 32,
   "id": "90f548de",
   "metadata": {},
   "outputs": [
    {
     "data": {
      "text/plain": [
       "Docu Series                                  78\n",
       "Comedy                                       60\n",
       "Drama                                        35\n",
       "Comedy Drama                                 30\n",
       "Crime Drama                                  25\n",
       "                                             ..\n",
       "Superhero Fiction Crime Drama Legal Drama     1\n",
       "Horror Thriller                               1\n",
       "Coming Of Age Documentary                     1\n",
       "Making Of                                     1\n",
       "Cooking Show                                  1\n",
       "Name: genre, Length: 171, dtype: int64"
      ]
     },
     "execution_count": 32,
     "metadata": {},
     "output_type": "execute_result"
    }
   ],
   "source": [
    "# Including null values in count\n",
    "# True by default\n",
    "s.value_counts(dropna = False)"
   ]
  },
  {
   "cell_type": "markdown",
   "id": "6c3f44a1",
   "metadata": {},
   "source": [
    "#### Applying a boolean condition for selection"
   ]
  },
  {
   "cell_type": "code",
   "execution_count": 37,
   "id": "454187d7",
   "metadata": {},
   "outputs": [
    {
     "data": {
      "text/html": [
       "<div>\n",
       "<style scoped>\n",
       "    .dataframe tbody tr th:only-of-type {\n",
       "        vertical-align: middle;\n",
       "    }\n",
       "\n",
       "    .dataframe tbody tr th {\n",
       "        vertical-align: top;\n",
       "    }\n",
       "\n",
       "    .dataframe thead th {\n",
       "        text-align: right;\n",
       "    }\n",
       "</style>\n",
       "<table border=\"1\" class=\"dataframe\">\n",
       "  <thead>\n",
       "    <tr style=\"text-align: right;\">\n",
       "      <th></th>\n",
       "      <th>title</th>\n",
       "    </tr>\n",
       "  </thead>\n",
       "  <tbody>\n",
       "    <tr>\n",
       "      <th>1</th>\n",
       "      <td>The Crown</td>\n",
       "    </tr>\n",
       "    <tr>\n",
       "      <th>93</th>\n",
       "      <td>Barbarians</td>\n",
       "    </tr>\n",
       "    <tr>\n",
       "      <th>103</th>\n",
       "      <td>Luna Nera</td>\n",
       "    </tr>\n",
       "    <tr>\n",
       "      <th>212</th>\n",
       "      <td>Marco Polo</td>\n",
       "    </tr>\n",
       "    <tr>\n",
       "      <th>310</th>\n",
       "      <td>The English Game</td>\n",
       "    </tr>\n",
       "    <tr>\n",
       "      <th>403</th>\n",
       "      <td>Roman Empire</td>\n",
       "    </tr>\n",
       "    <tr>\n",
       "      <th>407</th>\n",
       "      <td>Five Came Back</td>\n",
       "    </tr>\n",
       "    <tr>\n",
       "      <th>559</th>\n",
       "      <td>The Forgotten Army</td>\n",
       "    </tr>\n",
       "    <tr>\n",
       "      <th>593</th>\n",
       "      <td>El Cid</td>\n",
       "    </tr>\n",
       "  </tbody>\n",
       "</table>\n",
       "</div>"
      ],
      "text/plain": [
       "                  title\n",
       "1             The Crown\n",
       "93           Barbarians\n",
       "103           Luna Nera\n",
       "212          Marco Polo\n",
       "310    The English Game\n",
       "403        Roman Empire\n",
       "407      Five Came Back\n",
       "559  The Forgotten Army\n",
       "593              El Cid"
      ]
     },
     "execution_count": 37,
     "metadata": {},
     "output_type": "execute_result"
    }
   ],
   "source": [
    "# Printing all historical dramas titles\n",
    " \n",
    "# condition = df['genre'] == 'Historical Drama' #type is dataframe\n",
    "# condition = condition.squeeze()  #converting to series\n",
    "\n",
    "condition = df['genre'] == 'Historical Drama'\n",
    "hist_dram = df.loc[condition, ['title']] # condition applied to rows\n",
    "hist_dram"
   ]
  },
  {
   "cell_type": "code",
   "execution_count": 44,
   "id": "769468fa",
   "metadata": {},
   "outputs": [
    {
     "data": {
      "text/html": [
       "<div>\n",
       "<style scoped>\n",
       "    .dataframe tbody tr th:only-of-type {\n",
       "        vertical-align: middle;\n",
       "    }\n",
       "\n",
       "    .dataframe tbody tr th {\n",
       "        vertical-align: top;\n",
       "    }\n",
       "\n",
       "    .dataframe thead th {\n",
       "        text-align: right;\n",
       "    }\n",
       "</style>\n",
       "<table border=\"1\" class=\"dataframe\">\n",
       "  <thead>\n",
       "    <tr style=\"text-align: right;\">\n",
       "      <th></th>\n",
       "      <th>title</th>\n",
       "    </tr>\n",
       "  </thead>\n",
       "  <tbody>\n",
       "  </tbody>\n",
       "</table>\n",
       "</div>"
      ],
      "text/plain": [
       "Empty DataFrame\n",
       "Columns: [title]\n",
       "Index: []"
      ]
     },
     "execution_count": 44,
     "metadata": {},
     "output_type": "execute_result"
    }
   ],
   "source": [
    "# Finding columns with some missing values\n",
    "\n",
    "condition = df['title'] == 'Title'\n",
    "temp = df.loc[condition, ['title']] #indexing\n",
    "temp"
   ]
  },
  {
   "cell_type": "code",
   "execution_count": 45,
   "id": "049731a3",
   "metadata": {},
   "outputs": [],
   "source": [
    "# Changing those rows with missing values\n",
    "\n",
    "for index, row in df.iterrows():\n",
    "    row = ['title', 'genre', 'date', 0, 0]\n",
    "    if (row[0] == 'Title'):\n",
    "        df.loc[index] = row"
   ]
  },
  {
   "cell_type": "code",
   "execution_count": 46,
   "id": "7a5f109d",
   "metadata": {},
   "outputs": [
    {
     "data": {
      "text/plain": [
       "(639, 5)"
      ]
     },
     "execution_count": 46,
     "metadata": {},
     "output_type": "execute_result"
    }
   ],
   "source": [
    "# Or, we could just drop those rows\n",
    "\n",
    "drop_indices = [i for i in temp.index]\n",
    "df.drop(drop_indices, inplace = True) # inplace means the changes happen in df itself, no copy is returned\n",
    "\n",
    "df.shape"
   ]
  },
  {
   "cell_type": "code",
   "execution_count": 48,
   "id": "80d4b063",
   "metadata": {},
   "outputs": [],
   "source": [
    "# Converting seasons and episodes cols to numeric type\n",
    "\n",
    "df['seasons']= pd.to_numeric(df['seasons'], errors = 'coerce')\n",
    "df['episodes']= pd.to_numeric(df['episodes'], errors = 'coerce')"
   ]
  },
  {
   "cell_type": "code",
   "execution_count": 49,
   "id": "829fc765",
   "metadata": {},
   "outputs": [
    {
     "data": {
      "text/html": [
       "<div>\n",
       "<style scoped>\n",
       "    .dataframe tbody tr th:only-of-type {\n",
       "        vertical-align: middle;\n",
       "    }\n",
       "\n",
       "    .dataframe tbody tr th {\n",
       "        vertical-align: top;\n",
       "    }\n",
       "\n",
       "    .dataframe thead th {\n",
       "        text-align: right;\n",
       "    }\n",
       "</style>\n",
       "<table border=\"1\" class=\"dataframe\">\n",
       "  <thead>\n",
       "    <tr style=\"text-align: right;\">\n",
       "      <th></th>\n",
       "      <th>title</th>\n",
       "      <th>genre</th>\n",
       "      <th>premiere</th>\n",
       "      <th>seasons</th>\n",
       "      <th>episodes</th>\n",
       "    </tr>\n",
       "  </thead>\n",
       "  <tbody>\n",
       "    <tr>\n",
       "      <th>163</th>\n",
       "      <td>ARASHI's Diary -Voyage-</td>\n",
       "      <td>Docu Series</td>\n",
       "      <td>December 31, 2019</td>\n",
       "      <td>23.0</td>\n",
       "      <td>NaN</td>\n",
       "    </tr>\n",
       "    <tr>\n",
       "      <th>364</th>\n",
       "      <td>My Holo Love</td>\n",
       "      <td>Science Fiction Romance</td>\n",
       "      <td>February 7, 2020</td>\n",
       "      <td>12.0</td>\n",
       "      <td>NaN</td>\n",
       "    </tr>\n",
       "    <tr>\n",
       "      <th>507</th>\n",
       "      <td>Too Old to Die Young</td>\n",
       "      <td>Crime Drama</td>\n",
       "      <td>June 14, 2019</td>\n",
       "      <td>10.0</td>\n",
       "      <td>NaN</td>\n",
       "    </tr>\n",
       "  </tbody>\n",
       "</table>\n",
       "</div>"
      ],
      "text/plain": [
       "                       title                    genre           premiere  \\\n",
       "163  ARASHI's Diary -Voyage-              Docu Series  December 31, 2019   \n",
       "364             My Holo Love  Science Fiction Romance   February 7, 2020   \n",
       "507     Too Old to Die Young              Crime Drama      June 14, 2019   \n",
       "\n",
       "     seasons  episodes  \n",
       "163     23.0       NaN  \n",
       "364     12.0       NaN  \n",
       "507     10.0       NaN  "
      ]
     },
     "execution_count": 49,
     "metadata": {},
     "output_type": "execute_result"
    }
   ],
   "source": [
    "# Getting shows with more than 10 seasons\n",
    "\n",
    "df.loc[df.seasons >= 10]"
   ]
  },
  {
   "cell_type": "markdown",
   "id": "2484ed96",
   "metadata": {},
   "source": [
    "### Vectorized operations"
   ]
  },
  {
   "cell_type": "code",
   "execution_count": 50,
   "id": "e6a92d54",
   "metadata": {},
   "outputs": [
    {
     "data": {
      "text/html": [
       "<div>\n",
       "<style scoped>\n",
       "    .dataframe tbody tr th:only-of-type {\n",
       "        vertical-align: middle;\n",
       "    }\n",
       "\n",
       "    .dataframe tbody tr th {\n",
       "        vertical-align: top;\n",
       "    }\n",
       "\n",
       "    .dataframe thead th {\n",
       "        text-align: right;\n",
       "    }\n",
       "</style>\n",
       "<table border=\"1\" class=\"dataframe\">\n",
       "  <thead>\n",
       "    <tr style=\"text-align: right;\">\n",
       "      <th></th>\n",
       "      <th>A</th>\n",
       "      <th>B</th>\n",
       "      <th>C</th>\n",
       "    </tr>\n",
       "  </thead>\n",
       "  <tbody>\n",
       "    <tr>\n",
       "      <th>0</th>\n",
       "      <td>1</td>\n",
       "      <td>10</td>\n",
       "      <td>100</td>\n",
       "    </tr>\n",
       "    <tr>\n",
       "      <th>1</th>\n",
       "      <td>2</td>\n",
       "      <td>20</td>\n",
       "      <td>200</td>\n",
       "    </tr>\n",
       "    <tr>\n",
       "      <th>2</th>\n",
       "      <td>3</td>\n",
       "      <td>30</td>\n",
       "      <td>300</td>\n",
       "    </tr>\n",
       "    <tr>\n",
       "      <th>3</th>\n",
       "      <td>4</td>\n",
       "      <td>40</td>\n",
       "      <td>400</td>\n",
       "    </tr>\n",
       "    <tr>\n",
       "      <th>4</th>\n",
       "      <td>5</td>\n",
       "      <td>50</td>\n",
       "      <td>500</td>\n",
       "    </tr>\n",
       "  </tbody>\n",
       "</table>\n",
       "</div>"
      ],
      "text/plain": [
       "   A   B    C\n",
       "0  1  10  100\n",
       "1  2  20  200\n",
       "2  3  30  300\n",
       "3  4  40  400\n",
       "4  5  50  500"
      ]
     },
     "execution_count": 50,
     "metadata": {},
     "output_type": "execute_result"
    }
   ],
   "source": [
    "df2 = pd.DataFrame({'A': [1, 2, 3, 4, 5], 'B': [10, 20, 30, 40, 50], 'C':[100, 200, 300, 400, 500]})\n",
    "df2"
   ]
  },
  {
   "cell_type": "code",
   "execution_count": 51,
   "id": "829439f6",
   "metadata": {},
   "outputs": [
    {
     "data": {
      "text/plain": [
       "0    11\n",
       "1    22\n",
       "2    33\n",
       "3    44\n",
       "4    55\n",
       "dtype: int64"
      ]
     },
     "execution_count": 51,
     "metadata": {},
     "output_type": "execute_result"
    }
   ],
   "source": [
    "df2['A'] + df2['B']"
   ]
  },
  {
   "cell_type": "code",
   "execution_count": 52,
   "id": "166f871c",
   "metadata": {},
   "outputs": [
    {
     "data": {
      "text/plain": [
       "0      1000\n",
       "1      8000\n",
       "2     27000\n",
       "3     64000\n",
       "4    125000\n",
       "dtype: int64"
      ]
     },
     "execution_count": 52,
     "metadata": {},
     "output_type": "execute_result"
    }
   ],
   "source": [
    "df2['A'] * df2['B'] * df2['C']"
   ]
  },
  {
   "cell_type": "code",
   "execution_count": 53,
   "id": "309abcb3",
   "metadata": {},
   "outputs": [
    {
     "data": {
      "text/plain": [
       "5"
      ]
     },
     "execution_count": 53,
     "metadata": {},
     "output_type": "execute_result"
    }
   ],
   "source": [
    "# Series methods\n",
    "s = df2['A'] \n",
    "s.max()\n",
    "s.min()\n",
    "s.mean()\n",
    "s.median()\n",
    "s.mode()\n",
    "s.sum()\n",
    "s.count()"
   ]
  },
  {
   "cell_type": "markdown",
   "id": "9cac46fe",
   "metadata": {},
   "source": [
    "### Summary functions:"
   ]
  },
  {
   "cell_type": "code",
   "execution_count": 54,
   "id": "f277bc6a",
   "metadata": {},
   "outputs": [
    {
     "data": {
      "text/html": [
       "<div>\n",
       "<style scoped>\n",
       "    .dataframe tbody tr th:only-of-type {\n",
       "        vertical-align: middle;\n",
       "    }\n",
       "\n",
       "    .dataframe tbody tr th {\n",
       "        vertical-align: top;\n",
       "    }\n",
       "\n",
       "    .dataframe thead th {\n",
       "        text-align: right;\n",
       "    }\n",
       "</style>\n",
       "<table border=\"1\" class=\"dataframe\">\n",
       "  <thead>\n",
       "    <tr style=\"text-align: right;\">\n",
       "      <th></th>\n",
       "      <th>seasons</th>\n",
       "      <th>episodes</th>\n",
       "    </tr>\n",
       "  </thead>\n",
       "  <tbody>\n",
       "    <tr>\n",
       "      <th>count</th>\n",
       "      <td>638.000000</td>\n",
       "      <td>558.000000</td>\n",
       "    </tr>\n",
       "    <tr>\n",
       "      <th>mean</th>\n",
       "      <td>2.059561</td>\n",
       "      <td>13.551971</td>\n",
       "    </tr>\n",
       "    <tr>\n",
       "      <th>std</th>\n",
       "      <td>1.919796</td>\n",
       "      <td>11.869578</td>\n",
       "    </tr>\n",
       "    <tr>\n",
       "      <th>min</th>\n",
       "      <td>1.000000</td>\n",
       "      <td>2.000000</td>\n",
       "    </tr>\n",
       "    <tr>\n",
       "      <th>25%</th>\n",
       "      <td>1.000000</td>\n",
       "      <td>7.000000</td>\n",
       "    </tr>\n",
       "    <tr>\n",
       "      <th>50%</th>\n",
       "      <td>1.000000</td>\n",
       "      <td>10.000000</td>\n",
       "    </tr>\n",
       "    <tr>\n",
       "      <th>75%</th>\n",
       "      <td>2.000000</td>\n",
       "      <td>16.000000</td>\n",
       "    </tr>\n",
       "    <tr>\n",
       "      <th>max</th>\n",
       "      <td>23.000000</td>\n",
       "      <td>91.000000</td>\n",
       "    </tr>\n",
       "  </tbody>\n",
       "</table>\n",
       "</div>"
      ],
      "text/plain": [
       "          seasons    episodes\n",
       "count  638.000000  558.000000\n",
       "mean     2.059561   13.551971\n",
       "std      1.919796   11.869578\n",
       "min      1.000000    2.000000\n",
       "25%      1.000000    7.000000\n",
       "50%      1.000000   10.000000\n",
       "75%      2.000000   16.000000\n",
       "max     23.000000   91.000000"
      ]
     },
     "execution_count": 54,
     "metadata": {},
     "output_type": "execute_result"
    }
   ],
   "source": [
    "# Summary of all numeric columns\n",
    "df.describe()"
   ]
  },
  {
   "cell_type": "code",
   "execution_count": 35,
   "id": "1e8cc3d2",
   "metadata": {},
   "outputs": [
    {
     "data": {
      "text/html": [
       "<div>\n",
       "<style scoped>\n",
       "    .dataframe tbody tr th:only-of-type {\n",
       "        vertical-align: middle;\n",
       "    }\n",
       "\n",
       "    .dataframe tbody tr th {\n",
       "        vertical-align: top;\n",
       "    }\n",
       "\n",
       "    .dataframe thead th {\n",
       "        text-align: right;\n",
       "    }\n",
       "</style>\n",
       "<table border=\"1\" class=\"dataframe\">\n",
       "  <thead>\n",
       "    <tr style=\"text-align: right;\">\n",
       "      <th></th>\n",
       "      <th>title</th>\n",
       "      <th>genre</th>\n",
       "      <th>premiere</th>\n",
       "    </tr>\n",
       "  </thead>\n",
       "  <tbody>\n",
       "    <tr>\n",
       "      <th>count</th>\n",
       "      <td>639</td>\n",
       "      <td>639</td>\n",
       "      <td>639</td>\n",
       "    </tr>\n",
       "    <tr>\n",
       "      <th>unique</th>\n",
       "      <td>639</td>\n",
       "      <td>170</td>\n",
       "      <td>388</td>\n",
       "    </tr>\n",
       "    <tr>\n",
       "      <th>top</th>\n",
       "      <td>Stranger Things</td>\n",
       "      <td>Docu Series</td>\n",
       "      <td>November 16, 2018</td>\n",
       "    </tr>\n",
       "    <tr>\n",
       "      <th>freq</th>\n",
       "      <td>1</td>\n",
       "      <td>78</td>\n",
       "      <td>7</td>\n",
       "    </tr>\n",
       "  </tbody>\n",
       "</table>\n",
       "</div>"
      ],
      "text/plain": [
       "                  title        genre           premiere\n",
       "count               639          639                639\n",
       "unique              639          170                388\n",
       "top     Stranger Things  Docu Series  November 16, 2018\n",
       "freq                  1           78                  7"
      ]
     },
     "execution_count": 35,
     "metadata": {},
     "output_type": "execute_result"
    }
   ],
   "source": [
    "# Summary of all non-numeric columns\n",
    "df.describe(include=['O'])"
   ]
  },
  {
   "cell_type": "code",
   "execution_count": 55,
   "id": "30bbe417",
   "metadata": {},
   "outputs": [
    {
     "data": {
      "text/plain": [
       "count    638.000000\n",
       "mean       2.059561\n",
       "std        1.919796\n",
       "min        1.000000\n",
       "25%        1.000000\n",
       "50%        1.000000\n",
       "75%        2.000000\n",
       "max       23.000000\n",
       "Name: seasons, dtype: float64"
      ]
     },
     "execution_count": 55,
     "metadata": {},
     "output_type": "execute_result"
    }
   ],
   "source": [
    "# Summary of single numeric column\n",
    "df.seasons.describe()"
   ]
  },
  {
   "cell_type": "code",
   "execution_count": 56,
   "id": "baa15a57",
   "metadata": {},
   "outputs": [
    {
     "data": {
      "text/plain": [
       "count                 639\n",
       "unique                639\n",
       "top       Stranger Things\n",
       "freq                    1\n",
       "Name: title, dtype: object"
      ]
     },
     "execution_count": 56,
     "metadata": {},
     "output_type": "execute_result"
    }
   ],
   "source": [
    "# Summary of single non-numeric column\n",
    "df.title.describe()"
   ]
  },
  {
   "cell_type": "markdown",
   "id": "457334e4",
   "metadata": {},
   "source": [
    "- count: Number of non-null values\n",
    "- unique: Number of unique values in the series\n",
    "- top: Most common value in the series\n",
    "- freq: Frequency of the most common value"
   ]
  },
  {
   "cell_type": "code",
   "execution_count": 57,
   "id": "736df612",
   "metadata": {},
   "outputs": [
    {
     "data": {
      "text/plain": [
       "639"
      ]
     },
     "execution_count": 57,
     "metadata": {},
     "output_type": "execute_result"
    }
   ],
   "source": [
    "# Get a stats from a series\n",
    "\n",
    "df.seasons.max()\n",
    "df.seasons.mean()\n",
    "df.episodes.std()\n",
    "df.genre.unique()\n",
    "df.title.count()"
   ]
  },
  {
   "cell_type": "code",
   "execution_count": 58,
   "id": "2e2813e9",
   "metadata": {},
   "outputs": [
    {
     "data": {
      "text/plain": [
       "170"
      ]
     },
     "execution_count": 58,
     "metadata": {},
     "output_type": "execute_result"
    }
   ],
   "source": [
    "# Unique values in a column\n",
    "\n",
    "unique_genres = df.genre.unique()  # List\n",
    "len(unique_genres)"
   ]
  },
  {
   "cell_type": "code",
   "execution_count": 60,
   "id": "012d8190",
   "metadata": {},
   "outputs": [
    {
     "data": {
      "text/plain": [
       "17"
      ]
     },
     "execution_count": 60,
     "metadata": {},
     "output_type": "execute_result"
    }
   ],
   "source": [
    "# Find number of movies with 5 episodes\n",
    "# loc can be used to get single value from a series\n",
    "\n",
    "df['episodes'].value_counts().loc[5]"
   ]
  },
  {
   "cell_type": "markdown",
   "id": "86092180",
   "metadata": {},
   "source": [
    "To get df stats, we need to specify axis (to calculate along rows or columns?)\n",
    "- axis = 0 or \"index\" means along the row axis (for each column)\n",
    "- axis = 1 or \"columns\" means along the columns axis (for each row)\n",
    "<br> Default is axis=0"
   ]
  },
  {
   "cell_type": "code",
   "execution_count": 61,
   "id": "1f3529d8",
   "metadata": {},
   "outputs": [
    {
     "data": {
      "text/plain": [
       "title       639\n",
       "genre       639\n",
       "premiere    639\n",
       "seasons     638\n",
       "episodes    558\n",
       "dtype: int64"
      ]
     },
     "execution_count": 61,
     "metadata": {},
     "output_type": "execute_result"
    }
   ],
   "source": [
    "# Get stats from a dataframe\n",
    "# Along row (vertical) axis\n",
    "df.count(axis=0)"
   ]
  },
  {
   "cell_type": "code",
   "execution_count": 62,
   "id": "e8c96228",
   "metadata": {},
   "outputs": [
    {
     "data": {
      "text/plain": [
       "0     37.0\n",
       "1     74.0\n",
       "2    111.0\n",
       "3    148.0\n",
       "4    185.0\n",
       "dtype: float64"
      ]
     },
     "execution_count": 62,
     "metadata": {},
     "output_type": "execute_result"
    }
   ],
   "source": [
    "# Along column (horizontal) axis\n",
    "df2.mean(axis=1)"
   ]
  },
  {
   "cell_type": "code",
   "execution_count": 65,
   "id": "84f0c6a6",
   "metadata": {},
   "outputs": [
    {
     "data": {
      "text/plain": [
       "seasons      2.059561\n",
       "episodes    13.551971\n",
       "dtype: float64"
      ]
     },
     "execution_count": 65,
     "metadata": {},
     "output_type": "execute_result"
    }
   ],
   "source": [
    "# Stats for multiple columns\n",
    "df[['seasons', 'episodes']].mean(axis=0)"
   ]
  },
  {
   "cell_type": "code",
   "execution_count": 66,
   "id": "e286a409",
   "metadata": {},
   "outputs": [
    {
     "data": {
      "text/plain": [
       "seasons      2.090909\n",
       "episodes    19.000000\n",
       "dtype: float64"
      ]
     },
     "execution_count": 66,
     "metadata": {},
     "output_type": "execute_result"
    }
   ],
   "source": [
    "# Same, but for selected rows\n",
    "df.loc[0:10, ['seasons', 'episodes']].mean()"
   ]
  },
  {
   "cell_type": "code",
   "execution_count": 67,
   "id": "14518dc4",
   "metadata": {},
   "outputs": [
    {
     "data": {
      "text/plain": [
       "['seasons', 'episodes']"
      ]
     },
     "execution_count": 67,
     "metadata": {},
     "output_type": "execute_result"
    }
   ],
   "source": [
    "# Get names of all the numeric columns in a list\n",
    "import numpy as np\n",
    "list(df.select_dtypes(include=[np.number]).columns)"
   ]
  },
  {
   "cell_type": "code",
   "execution_count": 46,
   "id": "cb2d0084",
   "metadata": {},
   "outputs": [
    {
     "data": {
      "text/plain": [
       "seasons      2.059561\n",
       "episodes    13.551971\n",
       "dtype: float64"
      ]
     },
     "execution_count": 46,
     "metadata": {},
     "output_type": "execute_result"
    }
   ],
   "source": [
    "# Stats of only numeric columns\n",
    "df.select_dtypes(include=[np.number]).mean()"
   ]
  },
  {
   "cell_type": "code",
   "execution_count": 47,
   "id": "88d92b33",
   "metadata": {},
   "outputs": [
    {
     "data": {
      "text/plain": [
       "22      The Haunting of Bly Manor\n",
       "108                JU-ON: Origins\n",
       "115                    Sweet Home\n",
       "247               October Faction\n",
       "302    The Haunting of Hill House\n",
       "349                         Ghoul\n",
       "352                    Typewriter\n",
       "Name: title, dtype: object"
      ]
     },
     "execution_count": 47,
     "metadata": {},
     "output_type": "execute_result"
    }
   ],
   "source": [
    "# Select the titles where genre is Horror\n",
    "horror_bool = df['genre'] == 'Horror'\n",
    "df.loc[horror_bool, 'title']"
   ]
  },
  {
   "cell_type": "code",
   "execution_count": 48,
   "id": "beb38f43",
   "metadata": {},
   "outputs": [
    {
     "data": {
      "text/html": [
       "<div>\n",
       "<style scoped>\n",
       "    .dataframe tbody tr th:only-of-type {\n",
       "        vertical-align: middle;\n",
       "    }\n",
       "\n",
       "    .dataframe tbody tr th {\n",
       "        vertical-align: top;\n",
       "    }\n",
       "\n",
       "    .dataframe thead th {\n",
       "        text-align: right;\n",
       "    }\n",
       "</style>\n",
       "<table border=\"1\" class=\"dataframe\">\n",
       "  <thead>\n",
       "    <tr style=\"text-align: right;\">\n",
       "      <th></th>\n",
       "      <th>A</th>\n",
       "      <th>B</th>\n",
       "      <th>C</th>\n",
       "    </tr>\n",
       "  </thead>\n",
       "  <tbody>\n",
       "    <tr>\n",
       "      <th>0</th>\n",
       "      <td>1</td>\n",
       "      <td>NaN</td>\n",
       "      <td>100</td>\n",
       "    </tr>\n",
       "    <tr>\n",
       "      <th>1</th>\n",
       "      <td>2</td>\n",
       "      <td>20.0</td>\n",
       "      <td>200</td>\n",
       "    </tr>\n",
       "    <tr>\n",
       "      <th>2</th>\n",
       "      <td>3</td>\n",
       "      <td>30.0</td>\n",
       "      <td>300</td>\n",
       "    </tr>\n",
       "    <tr>\n",
       "      <th>3</th>\n",
       "      <td>4</td>\n",
       "      <td>40.0</td>\n",
       "      <td>400</td>\n",
       "    </tr>\n",
       "    <tr>\n",
       "      <th>4</th>\n",
       "      <td>5</td>\n",
       "      <td>50.0</td>\n",
       "      <td>500</td>\n",
       "    </tr>\n",
       "  </tbody>\n",
       "</table>\n",
       "</div>"
      ],
      "text/plain": [
       "   A     B    C\n",
       "0  1   NaN  100\n",
       "1  2  20.0  200\n",
       "2  3  30.0  300\n",
       "3  4  40.0  400\n",
       "4  5  50.0  500"
      ]
     },
     "execution_count": 48,
     "metadata": {},
     "output_type": "execute_result"
    }
   ],
   "source": [
    "# Set the value of all 10s in column B to nan\n",
    "df2.loc[df2['B'] == 10, 'B'] = np.nan\n",
    "df2"
   ]
  },
  {
   "cell_type": "code",
   "execution_count": 49,
   "id": "b8762697",
   "metadata": {},
   "outputs": [
    {
     "data": {
      "text/html": [
       "<div>\n",
       "<style scoped>\n",
       "    .dataframe tbody tr th:only-of-type {\n",
       "        vertical-align: middle;\n",
       "    }\n",
       "\n",
       "    .dataframe tbody tr th {\n",
       "        vertical-align: top;\n",
       "    }\n",
       "\n",
       "    .dataframe thead th {\n",
       "        text-align: right;\n",
       "    }\n",
       "</style>\n",
       "<table border=\"1\" class=\"dataframe\">\n",
       "  <thead>\n",
       "    <tr style=\"text-align: right;\">\n",
       "      <th></th>\n",
       "      <th>A</th>\n",
       "      <th>B</th>\n",
       "      <th>C</th>\n",
       "      <th>D</th>\n",
       "    </tr>\n",
       "  </thead>\n",
       "  <tbody>\n",
       "    <tr>\n",
       "      <th>0</th>\n",
       "      <td>1</td>\n",
       "      <td>NaN</td>\n",
       "      <td>100</td>\n",
       "      <td>NaN</td>\n",
       "    </tr>\n",
       "    <tr>\n",
       "      <th>1</th>\n",
       "      <td>2</td>\n",
       "      <td>20.0</td>\n",
       "      <td>200</td>\n",
       "      <td>18.0</td>\n",
       "    </tr>\n",
       "    <tr>\n",
       "      <th>2</th>\n",
       "      <td>3</td>\n",
       "      <td>30.0</td>\n",
       "      <td>300</td>\n",
       "      <td>27.0</td>\n",
       "    </tr>\n",
       "    <tr>\n",
       "      <th>3</th>\n",
       "      <td>4</td>\n",
       "      <td>40.0</td>\n",
       "      <td>400</td>\n",
       "      <td>36.0</td>\n",
       "    </tr>\n",
       "    <tr>\n",
       "      <th>4</th>\n",
       "      <td>5</td>\n",
       "      <td>50.0</td>\n",
       "      <td>500</td>\n",
       "      <td>45.0</td>\n",
       "    </tr>\n",
       "  </tbody>\n",
       "</table>\n",
       "</div>"
      ],
      "text/plain": [
       "   A     B    C     D\n",
       "0  1   NaN  100   NaN\n",
       "1  2  20.0  200  18.0\n",
       "2  3  30.0  300  27.0\n",
       "3  4  40.0  400  36.0\n",
       "4  5  50.0  500  45.0"
      ]
     },
     "execution_count": 49,
     "metadata": {},
     "output_type": "execute_result"
    }
   ],
   "source": [
    "# Add a column to df2 that id the difference between A and B\n",
    "df2['D'] = np.abs(df2['A'] - df2['B'])\n",
    "df2"
   ]
  },
  {
   "cell_type": "code",
   "execution_count": 50,
   "id": "24334fd1",
   "metadata": {},
   "outputs": [
    {
     "data": {
      "text/plain": [
       "10.0    4\n",
       "30.0    3\n",
       "20.0    3\n",
       "Name: episodes, dtype: int64"
      ]
     },
     "execution_count": 50,
     "metadata": {},
     "output_type": "execute_result"
    }
   ],
   "source": [
    "# Get top 3 most frequent values of episodes for Crime Dramas\n",
    "# Return series of episodes and counts\n",
    "\n",
    "df.loc[df[\"genre\"] == 'Crime Drama', \"episodes\"].value_counts().head(3)"
   ]
  },
  {
   "cell_type": "markdown",
   "id": "45f3f1d7",
   "metadata": {},
   "source": [
    "Some functions that return boolean masks:\n",
    "- Series.isnull()\n",
    "- Series.notnull()"
   ]
  },
  {
   "cell_type": "code",
   "execution_count": 51,
   "id": "d65ffb37",
   "metadata": {},
   "outputs": [
    {
     "data": {
      "text/html": [
       "<div>\n",
       "<style scoped>\n",
       "    .dataframe tbody tr th:only-of-type {\n",
       "        vertical-align: middle;\n",
       "    }\n",
       "\n",
       "    .dataframe tbody tr th {\n",
       "        vertical-align: top;\n",
       "    }\n",
       "\n",
       "    .dataframe thead th {\n",
       "        text-align: right;\n",
       "    }\n",
       "</style>\n",
       "<table border=\"1\" class=\"dataframe\">\n",
       "  <thead>\n",
       "    <tr style=\"text-align: right;\">\n",
       "      <th></th>\n",
       "      <th>title</th>\n",
       "      <th>genre</th>\n",
       "      <th>premiere</th>\n",
       "      <th>seasons</th>\n",
       "      <th>episodes</th>\n",
       "    </tr>\n",
       "  </thead>\n",
       "  <tbody>\n",
       "    <tr>\n",
       "      <th>22</th>\n",
       "      <td>The Haunting of Bly Manor</td>\n",
       "      <td>Horror</td>\n",
       "      <td>October 9, 2020</td>\n",
       "      <td>9.0</td>\n",
       "      <td>NaN</td>\n",
       "    </tr>\n",
       "    <tr>\n",
       "      <th>25</th>\n",
       "      <td>The Queen's Gambit</td>\n",
       "      <td>Drama</td>\n",
       "      <td>October 23, 2020</td>\n",
       "      <td>7.0</td>\n",
       "      <td>NaN</td>\n",
       "    </tr>\n",
       "    <tr>\n",
       "      <th>70</th>\n",
       "      <td>The Liberator</td>\n",
       "      <td>War Drama</td>\n",
       "      <td>November 11, 2020</td>\n",
       "      <td>4.0</td>\n",
       "      <td>NaN</td>\n",
       "    </tr>\n",
       "    <tr>\n",
       "      <th>80</th>\n",
       "      <td>Transformers: War for Cybertron Trilogy: Siege</td>\n",
       "      <td>Science Fiction</td>\n",
       "      <td>July 30, 2020</td>\n",
       "      <td>6.0</td>\n",
       "      <td>NaN</td>\n",
       "    </tr>\n",
       "    <tr>\n",
       "      <th>83</th>\n",
       "      <td>Transformers: War for Cybertron Trilogy: Earth...</td>\n",
       "      <td>Science Fiction</td>\n",
       "      <td>December 30, 2020</td>\n",
       "      <td>6.0</td>\n",
       "      <td>NaN</td>\n",
       "    </tr>\n",
       "  </tbody>\n",
       "</table>\n",
       "</div>"
      ],
      "text/plain": [
       "                                                title            genre  \\\n",
       "22                          The Haunting of Bly Manor           Horror   \n",
       "25                                 The Queen's Gambit            Drama   \n",
       "70                                      The Liberator        War Drama   \n",
       "80     Transformers: War for Cybertron Trilogy: Siege  Science Fiction   \n",
       "83  Transformers: War for Cybertron Trilogy: Earth...  Science Fiction   \n",
       "\n",
       "             premiere  seasons  episodes  \n",
       "22    October 9, 2020      9.0       NaN  \n",
       "25   October 23, 2020      7.0       NaN  \n",
       "70  November 11, 2020      4.0       NaN  \n",
       "80      July 30, 2020      6.0       NaN  \n",
       "83  December 30, 2020      6.0       NaN  "
      ]
     },
     "execution_count": 51,
     "metadata": {},
     "output_type": "execute_result"
    }
   ],
   "source": [
    "# Get the rows where episodes is null\n",
    "df.loc[df['episodes'].isnull()].head()"
   ]
  },
  {
   "cell_type": "code",
   "execution_count": 52,
   "id": "33f0fea7",
   "metadata": {},
   "outputs": [
    {
     "data": {
      "text/plain": [
       "title       The Haunting of Bly Manor\n",
       "genre                          Horror\n",
       "premiere              October 9, 2020\n",
       "seasons                           9.0\n",
       "episodes                          NaN\n",
       "Name: 22, dtype: object"
      ]
     },
     "execution_count": 52,
     "metadata": {},
     "output_type": "execute_result"
    }
   ],
   "source": [
    "# Select the first row from the above selection\n",
    "# Use index 0 for iloc\n",
    "df.loc[df['episodes'].isnull()].iloc[0]\n",
    "\n",
    "#or, use index label 22 for loc\n",
    "df.loc[df['episodes'].isnull()].loc[22]"
   ]
  },
  {
   "cell_type": "markdown",
   "id": "68807ac6",
   "metadata": {},
   "source": [
    "Every operation will align on the index labels. Pandas will also:\n",
    "- Discard any items that have an index that doesn't match the dataframe (like arugula).\n",
    "- Fill any remaining rows with NaN.\n",
    "<br>\n",
    "<br>\n",
    "If we choose only not null episodes and multiply with seasons, the length of the new series will be smaller than original columns. If we try to append this to df, the rows will align on index labels, the missing indices will be NaN."
   ]
  },
  {
   "cell_type": "code",
   "execution_count": 53,
   "id": "5a1787fd",
   "metadata": {},
   "outputs": [],
   "source": [
    "# create a new column where you multiply non-null episodes with seasons\n",
    "# new_df has the rows with non-null episodes\n",
    "new_df = df[df[\"episodes\"].notnull()]\n",
    "df[\"new_col\"] = new_df[\"seasons\"] * new_df[\"episodes\"]"
   ]
  },
  {
   "cell_type": "code",
   "execution_count": 54,
   "id": "e2d3dde1",
   "metadata": {},
   "outputs": [
    {
     "data": {
      "text/html": [
       "<div>\n",
       "<style scoped>\n",
       "    .dataframe tbody tr th:only-of-type {\n",
       "        vertical-align: middle;\n",
       "    }\n",
       "\n",
       "    .dataframe tbody tr th {\n",
       "        vertical-align: top;\n",
       "    }\n",
       "\n",
       "    .dataframe thead th {\n",
       "        text-align: right;\n",
       "    }\n",
       "</style>\n",
       "<table border=\"1\" class=\"dataframe\">\n",
       "  <thead>\n",
       "    <tr style=\"text-align: right;\">\n",
       "      <th></th>\n",
       "      <th>title</th>\n",
       "      <th>genre</th>\n",
       "      <th>premiere</th>\n",
       "      <th>seasons</th>\n",
       "      <th>episodes</th>\n",
       "      <th>new_col</th>\n",
       "    </tr>\n",
       "  </thead>\n",
       "  <tbody>\n",
       "    <tr>\n",
       "      <th>0</th>\n",
       "      <td>Stranger Things</td>\n",
       "      <td>Science Fiction Horror</td>\n",
       "      <td>July 15, 2016</td>\n",
       "      <td>3.0</td>\n",
       "      <td>25.0</td>\n",
       "      <td>75.0</td>\n",
       "    </tr>\n",
       "    <tr>\n",
       "      <th>1</th>\n",
       "      <td>The Crown</td>\n",
       "      <td>Historical Drama</td>\n",
       "      <td>November 4, 2016</td>\n",
       "      <td>4.0</td>\n",
       "      <td>40.0</td>\n",
       "      <td>160.0</td>\n",
       "    </tr>\n",
       "    <tr>\n",
       "      <th>2</th>\n",
       "      <td>Ozark</td>\n",
       "      <td>Crime Drama</td>\n",
       "      <td>July 21, 2017</td>\n",
       "      <td>3.0</td>\n",
       "      <td>30.0</td>\n",
       "      <td>90.0</td>\n",
       "    </tr>\n",
       "    <tr>\n",
       "      <th>3</th>\n",
       "      <td>Lost in Space</td>\n",
       "      <td>Science Fiction</td>\n",
       "      <td>April 13, 2018</td>\n",
       "      <td>2.0</td>\n",
       "      <td>20.0</td>\n",
       "      <td>40.0</td>\n",
       "    </tr>\n",
       "    <tr>\n",
       "      <th>4</th>\n",
       "      <td>Narcos: Mexico</td>\n",
       "      <td>Crime Drama</td>\n",
       "      <td>November 16, 2018</td>\n",
       "      <td>2.0</td>\n",
       "      <td>20.0</td>\n",
       "      <td>40.0</td>\n",
       "    </tr>\n",
       "    <tr>\n",
       "      <th>...</th>\n",
       "      <td>...</td>\n",
       "      <td>...</td>\n",
       "      <td>...</td>\n",
       "      <td>...</td>\n",
       "      <td>...</td>\n",
       "      <td>...</td>\n",
       "    </tr>\n",
       "    <tr>\n",
       "      <th>636</th>\n",
       "      <td>The Last Narc</td>\n",
       "      <td>Drug Documentary</td>\n",
       "      <td>July 31, 2020</td>\n",
       "      <td>1.0</td>\n",
       "      <td>4.0</td>\n",
       "      <td>4.0</td>\n",
       "    </tr>\n",
       "    <tr>\n",
       "      <th>637</th>\n",
       "      <td>All or Nothing: Tottenham Hotspur</td>\n",
       "      <td>Sports Documentary</td>\n",
       "      <td>August 31, 2020</td>\n",
       "      <td>1.0</td>\n",
       "      <td>9.0</td>\n",
       "      <td>9.0</td>\n",
       "    </tr>\n",
       "    <tr>\n",
       "      <th>638</th>\n",
       "      <td>Fernando</td>\n",
       "      <td>Sports Documentary</td>\n",
       "      <td>September 25, 2020</td>\n",
       "      <td>1.0</td>\n",
       "      <td>5.0</td>\n",
       "      <td>5.0</td>\n",
       "    </tr>\n",
       "    <tr>\n",
       "      <th>639</th>\n",
       "      <td>El Desafío: ETA</td>\n",
       "      <td>Docuseries</td>\n",
       "      <td>October 30, 2020</td>\n",
       "      <td>1.0</td>\n",
       "      <td>8.0</td>\n",
       "      <td>8.0</td>\n",
       "    </tr>\n",
       "    <tr>\n",
       "      <th>640</th>\n",
       "      <td>James May: Oh Cook!</td>\n",
       "      <td>Cooking Show</td>\n",
       "      <td>November 13, 2020</td>\n",
       "      <td>1.0</td>\n",
       "      <td>7.0</td>\n",
       "      <td>7.0</td>\n",
       "    </tr>\n",
       "  </tbody>\n",
       "</table>\n",
       "<p>639 rows × 6 columns</p>\n",
       "</div>"
      ],
      "text/plain": [
       "                                 title                   genre  \\\n",
       "0                      Stranger Things  Science Fiction Horror   \n",
       "1                            The Crown        Historical Drama   \n",
       "2                                Ozark             Crime Drama   \n",
       "3                        Lost in Space         Science Fiction   \n",
       "4                       Narcos: Mexico             Crime Drama   \n",
       "..                                 ...                     ...   \n",
       "636                      The Last Narc        Drug Documentary   \n",
       "637  All or Nothing: Tottenham Hotspur      Sports Documentary   \n",
       "638                           Fernando      Sports Documentary   \n",
       "639                    El Desafío: ETA              Docuseries   \n",
       "640                James May: Oh Cook!            Cooking Show   \n",
       "\n",
       "               premiere  seasons  episodes  new_col  \n",
       "0         July 15, 2016      3.0      25.0     75.0  \n",
       "1      November 4, 2016      4.0      40.0    160.0  \n",
       "2         July 21, 2017      3.0      30.0     90.0  \n",
       "3        April 13, 2018      2.0      20.0     40.0  \n",
       "4     November 16, 2018      2.0      20.0     40.0  \n",
       "..                  ...      ...       ...      ...  \n",
       "636       July 31, 2020      1.0       4.0      4.0  \n",
       "637     August 31, 2020      1.0       9.0      9.0  \n",
       "638  September 25, 2020      1.0       5.0      5.0  \n",
       "639    October 30, 2020      1.0       8.0      8.0  \n",
       "640   November 13, 2020      1.0       7.0      7.0  \n",
       "\n",
       "[639 rows x 6 columns]"
      ]
     },
     "execution_count": 54,
     "metadata": {},
     "output_type": "execute_result"
    }
   ],
   "source": [
    "df"
   ]
  },
  {
   "cell_type": "code",
   "execution_count": 62,
   "id": "7740fa45",
   "metadata": {},
   "outputs": [],
   "source": [
    "df.drop(['new_col'], axis=1, inplace = True)"
   ]
  },
  {
   "cell_type": "markdown",
   "id": "5f63213c",
   "metadata": {},
   "source": [
    "#### Boolean operators (&, |, ~) for selection"
   ]
  },
  {
   "cell_type": "code",
   "execution_count": 90,
   "id": "ba1191b1",
   "metadata": {},
   "outputs": [
    {
     "data": {
      "text/html": [
       "<div>\n",
       "<style scoped>\n",
       "    .dataframe tbody tr th:only-of-type {\n",
       "        vertical-align: middle;\n",
       "    }\n",
       "\n",
       "    .dataframe tbody tr th {\n",
       "        vertical-align: top;\n",
       "    }\n",
       "\n",
       "    .dataframe thead th {\n",
       "        text-align: right;\n",
       "    }\n",
       "</style>\n",
       "<table border=\"1\" class=\"dataframe\">\n",
       "  <thead>\n",
       "    <tr style=\"text-align: right;\">\n",
       "      <th></th>\n",
       "      <th>title</th>\n",
       "      <th>genre</th>\n",
       "      <th>premiere</th>\n",
       "      <th>seasons</th>\n",
       "      <th>episodes</th>\n",
       "    </tr>\n",
       "  </thead>\n",
       "  <tbody>\n",
       "    <tr>\n",
       "      <th>140</th>\n",
       "      <td>The Great Heist</td>\n",
       "      <td>Crime Drama</td>\n",
       "      <td>August 14, 2020</td>\n",
       "      <td>6.0</td>\n",
       "      <td>NaN</td>\n",
       "    </tr>\n",
       "    <tr>\n",
       "      <th>409</th>\n",
       "      <td>The Keepers</td>\n",
       "      <td>Crime Drama</td>\n",
       "      <td>May 19, 2017</td>\n",
       "      <td>7.0</td>\n",
       "      <td>NaN</td>\n",
       "    </tr>\n",
       "    <tr>\n",
       "      <th>507</th>\n",
       "      <td>Too Old to Die Young</td>\n",
       "      <td>Crime Drama</td>\n",
       "      <td>June 14, 2019</td>\n",
       "      <td>10.0</td>\n",
       "      <td>NaN</td>\n",
       "    </tr>\n",
       "  </tbody>\n",
       "</table>\n",
       "</div>"
      ],
      "text/plain": [
       "                    title        genre         premiere  seasons  episodes\n",
       "140       The Great Heist  Crime Drama  August 14, 2020      6.0       NaN\n",
       "409           The Keepers  Crime Drama     May 19, 2017      7.0       NaN\n",
       "507  Too Old to Die Young  Crime Drama    June 14, 2019     10.0       NaN"
      ]
     },
     "execution_count": 90,
     "metadata": {},
     "output_type": "execute_result"
    }
   ],
   "source": [
    "# Select the rows with more than 5 seasons AND of the Crime Drama genre\n",
    "cond_1 = df[\"seasons\"] > 5\n",
    "cond_2 = df[\"genre\"] == \"Crime Drama\"\n",
    "combine = cond_1 & cond_2\n",
    "df.loc[combine]"
   ]
  },
  {
   "cell_type": "code",
   "execution_count": 101,
   "id": "44e93b16",
   "metadata": {},
   "outputs": [
    {
     "data": {
      "text/html": [
       "<div>\n",
       "<style scoped>\n",
       "    .dataframe tbody tr th:only-of-type {\n",
       "        vertical-align: middle;\n",
       "    }\n",
       "\n",
       "    .dataframe tbody tr th {\n",
       "        vertical-align: top;\n",
       "    }\n",
       "\n",
       "    .dataframe thead th {\n",
       "        text-align: right;\n",
       "    }\n",
       "</style>\n",
       "<table border=\"1\" class=\"dataframe\">\n",
       "  <thead>\n",
       "    <tr style=\"text-align: right;\">\n",
       "      <th></th>\n",
       "      <th>title</th>\n",
       "      <th>genre</th>\n",
       "      <th>premiere</th>\n",
       "      <th>seasons</th>\n",
       "      <th>episodes</th>\n",
       "    </tr>\n",
       "  </thead>\n",
       "  <tbody>\n",
       "    <tr>\n",
       "      <th>640</th>\n",
       "      <td>James May: Oh Cook!</td>\n",
       "      <td>Cooking Show</td>\n",
       "      <td>November 13, 2020</td>\n",
       "      <td>1.0</td>\n",
       "      <td>7.0</td>\n",
       "    </tr>\n",
       "  </tbody>\n",
       "</table>\n",
       "</div>"
      ],
      "text/plain": [
       "                   title         genre           premiere  seasons  episodes\n",
       "640  James May: Oh Cook!  Cooking Show  November 13, 2020      1.0       7.0"
      ]
     },
     "execution_count": 101,
     "metadata": {},
     "output_type": "execute_result"
    }
   ],
   "source": [
    "# Select cooking shows where episodes is not Nan\n",
    "df.loc[(df[\"genre\"] == \"Cooking Show\") & (df[\"episodes\"].notnull())]"
   ]
  },
  {
   "cell_type": "markdown",
   "id": "790933ab",
   "metadata": {},
   "source": [
    "#### sort_values() method"
   ]
  },
  {
   "cell_type": "code",
   "execution_count": 112,
   "id": "0eb6a05d",
   "metadata": {},
   "outputs": [
    {
     "data": {
      "text/plain": [
       "'The Haunting of Bly Manor'"
      ]
     },
     "execution_count": 112,
     "metadata": {},
     "output_type": "execute_result"
    }
   ],
   "source": [
    "# Find the Horror show title with the most seasons\n",
    "df.loc[df[\"genre\"] == 'Horror'].sort_values(by = \"seasons\", ascending = False).iloc[0]['title']"
   ]
  },
  {
   "cell_type": "markdown",
   "id": "9a1d2221",
   "metadata": {},
   "source": [
    "#### For loops in pandas"
   ]
  },
  {
   "cell_type": "code",
   "execution_count": 119,
   "id": "0064049e",
   "metadata": {
    "scrolled": true
   },
   "outputs": [
    {
     "data": {
      "text/plain": [
       "{'Science Fiction Horror': 3.0,\n",
       " 'Historical Drama': 5.0,\n",
       " 'Crime Drama': 10.0,\n",
       " 'Science Fiction': 6.0,\n",
       " 'Superhero Action': 2.0,\n",
       " 'Zombie Drama': 1.0,\n",
       " 'Science Fiction Drama': 1.0,\n",
       " 'Police Procedural Anthology Series': 2.0,\n",
       " 'Superhero Science Fiction Drama': 1.0,\n",
       " 'Romantic Drama': 2.0,\n",
       " 'Fantasy Drama': 1.0,\n",
       " 'Horror Teen Drama': 1.0,\n",
       " 'Fantasy': 3.0,\n",
       " 'Coming Of Age Drama': 2.0,\n",
       " 'Romance Drama': 1.0,\n",
       " 'Teen Drama': 3.0,\n",
       " 'Anthology Series': 1.0,\n",
       " 'Detective Drama': 1.0,\n",
       " 'Drama': 8.0,\n",
       " 'Horror': 9.0,\n",
       " 'Romance': 1.0,\n",
       " 'Biopic': 1.0,\n",
       " 'Teen Drama Fantasy': 1.0,\n",
       " 'Comedy Drama': 7.0,\n",
       " 'Comedy': 6.0,\n",
       " 'Satire Drama': 3.0,\n",
       " 'Coming Of Age Comedy': 4.0,\n",
       " 'Sketch Comedy': 1.0,\n",
       " 'Dark Comedy': 2.0,\n",
       " 'Black Comedy Drama': 6.0,\n",
       " 'Sitcom': 8.0,\n",
       " 'Dramedy': 1.0,\n",
       " 'Musical Comedy': 1.0,\n",
       " 'Medieval Fantasy Comedy': 3.0,\n",
       " 'Anthology': 1.0,\n",
       " 'Mockumentary': 2.0,\n",
       " 'Science Fantasy Dark Comedy': 1.0,\n",
       " 'War Drama': 4.0,\n",
       " 'Dark Fantasy': 3.0,\n",
       " 'Suspense': 1.0,\n",
       " 'Workplace Comedy': 3.0,\n",
       " \"Children'S Series\": 2.0,\n",
       " 'Disaster': 1.0,\n",
       " 'Dark Fantasy Adventure': 1.0,\n",
       " 'Fantasy Action': 2.0,\n",
       " 'Romantic Comedy': 3.0,\n",
       " 'Supernatural Drama': 2.0,\n",
       " 'Thriller': 6.0,\n",
       " 'Police Procedural': 1.0,\n",
       " 'Period Drama Comedy': 1.0,\n",
       " 'Period Horror Thriller': 2.0,\n",
       " 'Drama Anthology Series': 1.0,\n",
       " 'Teen Crime Drama': 1.0,\n",
       " 'Fantasy Superhero Drama': 1.0,\n",
       " 'Horror Anthology': 1.0,\n",
       " 'Period Drama': 5.0,\n",
       " 'Zombie Horror': 1.0,\n",
       " 'Awaiting Release': nan,\n",
       " 'Crime Teen Drama': 3.0,\n",
       " 'Horror Fantasy Thriller': 2.0,\n",
       " 'Family Drama': 2.0,\n",
       " 'Superhero Comedy': 1.0,\n",
       " 'Sports Crime Drama': 1.0,\n",
       " 'Crime Anthology Series': 8.0,\n",
       " 'Travel Documentary': 4.0,\n",
       " 'Documentary': 8.0,\n",
       " 'Docu Series': 23.0,\n",
       " 'Sport': 7.0,\n",
       " 'Culinary Art': 6.0,\n",
       " 'Nature Documentary': 8.0,\n",
       " 'Making Of': 1.0,\n",
       " 'Coming Of Age Documentary': 1.0,\n",
       " 'True Crime': 8.0,\n",
       " 'Political Drama': 6.0,\n",
       " 'Horror Thriller': 3.0,\n",
       " 'Superhero Fiction Crime Drama Legal Drama': 3.0,\n",
       " 'Superhero Fiction Neo Noir Psychological Thriller': 3.0,\n",
       " 'Musical Drama': 2.0,\n",
       " 'Superhero Fiction Neo Blaxploitation Neo Western': 2.0,\n",
       " 'Mystery': 2.0,\n",
       " 'Black Comedy Mystery': 3.0,\n",
       " 'Superhero Fiction Martial Arts': 2.0,\n",
       " 'Teen Drama Mystery': 4.0,\n",
       " 'Psychological Thriller': 2.0,\n",
       " 'Science Fiction Teen Drama': 4.0,\n",
       " 'Superhero Fiction Crime Drama Conspiracy Thriller': 2.0,\n",
       " 'Supernatural Fiction': 1.0,\n",
       " 'Supernatural Coming Of Age Horror': 4.0,\n",
       " 'Supernatural Crime Drama': 1.0,\n",
       " 'Supernatural Horror Drama': 2.0,\n",
       " 'Teen Psychological Thriller': 1.0,\n",
       " 'Mystery Drama': 2.0,\n",
       " 'Supernatural Martial Arts Drama': 1.0,\n",
       " 'Science Fiction Horror Drama': 1.0,\n",
       " 'Romantic Comedy Anthology': 3.0,\n",
       " 'Comedy Horror': 3.0,\n",
       " 'Comic Science Fiction': 2.0,\n",
       " 'Dark Comedy Drama': 2.0,\n",
       " 'Police Procedural Comedy Drama': 1.0,\n",
       " 'Family Comedy': 1.0,\n",
       " 'Satirical Comedy': 1.0,\n",
       " 'Superhero Action Drama': 1.0,\n",
       " 'Western': 1.0,\n",
       " 'Social Thriller Anthology': 1.0,\n",
       " 'Science Fiction Thriller': 1.0,\n",
       " 'Science Fantasy Comedy': 2.0,\n",
       " 'Superhero Lgbt Comedy': 1.0,\n",
       " 'Sitcom Television Comedy': 1.0,\n",
       " 'Supernatural Horror': 1.0,\n",
       " 'Supernatural': 2.0,\n",
       " 'Musical Fantasy': 1.0,\n",
       " 'Martial Arts': 2.0,\n",
       " 'Crime': 2.0,\n",
       " 'Stop Motion Slice Of Life': 1.0,\n",
       " 'Action': 2.0,\n",
       " 'Supernatural Action': 1.0,\n",
       " 'Science Fiction Action': 1.0,\n",
       " 'Supernatural Comedy': 1.0,\n",
       " 'Fantasy Adventure': 1.0,\n",
       " 'Post Apocalyptic Drama': 3.0,\n",
       " 'Horror Drama': 1.0,\n",
       " 'Espionage Thriller': 1.0,\n",
       " 'Action Comedy': 1.0,\n",
       " 'Science Fiction Romance': 12.0,\n",
       " 'Crime Drama Romance': 1.0,\n",
       " 'Spy Thriller': 1.0,\n",
       " 'Thriller Drama': 2.0,\n",
       " 'Musical': 2.0,\n",
       " 'Mystery Period Drama': 3.0,\n",
       " 'Crime Drama Thriller': 8.0,\n",
       " 'Police Procedural Anthology': 1.0,\n",
       " 'Supernatural Mystery': 4.0,\n",
       " 'Biography': 2.0,\n",
       " 'Psychological Drama': 6.0,\n",
       " 'Nature': 1.0,\n",
       " 'History': 4.0,\n",
       " 'Docudrama': 1.0,\n",
       " 'Detective Fiction': 6.0,\n",
       " 'Alternative History': 4.0,\n",
       " 'Legal Drama': 3.0,\n",
       " 'Historical Period Drama': 1.0,\n",
       " 'Anthology Horror': 2.0,\n",
       " 'Political Thriller': 2.0,\n",
       " 'Superhero': 2.0,\n",
       " 'Young Adult Drama': 1.0,\n",
       " 'Political Satire': 2.0,\n",
       " 'Teen Sitcom Fantasy': 2.0,\n",
       " 'Teen Sitcom': 1.0,\n",
       " 'Action Historical': 5.0,\n",
       " 'Crime Thriller': 2.0,\n",
       " 'Sports Drama': 2.0,\n",
       " 'Horror Comedy': 1.0,\n",
       " 'Romantic Comedy Drama': 2.0,\n",
       " 'Crime Thriller Action': 1.0,\n",
       " 'Action Horror': 2.0,\n",
       " 'Science Fiction Comedy': 1.0,\n",
       " 'Action Drama': 2.0,\n",
       " 'Cooking Comedy': 1.0,\n",
       " 'Action Comedy Drama': 1.0,\n",
       " 'Comedy Drama Anthology': 5.0,\n",
       " 'Mystery Thriller': 1.0,\n",
       " 'Adventure': 1.0,\n",
       " 'Sports Documentary': 5.0,\n",
       " 'Motoring': 4.0,\n",
       " 'Cooking Documentary': 1.0,\n",
       " 'Comedian Documentary': 1.0,\n",
       " 'Docuseries': 1.0,\n",
       " 'Comedy Docudrama': 1.0,\n",
       " 'Drug Documentary': 1.0,\n",
       " 'Cooking Show': 1.0}"
      ]
     },
     "execution_count": 119,
     "metadata": {},
     "output_type": "execute_result"
    }
   ],
   "source": [
    "# Find the highest number of seasons for each genre\n",
    "result = {} \n",
    "genres = df[\"genre\"].unique()\n",
    "for g in genres:\n",
    "    # select rows of that genre only\n",
    "    rows = df[df[\"genre\"] == g]\n",
    "    max_seasons = rows[\"seasons\"].max()\n",
    "    result[g] = max_seasons\n",
    "result"
   ]
  },
  {
   "cell_type": "code",
   "execution_count": 120,
   "id": "a28bd837",
   "metadata": {},
   "outputs": [
    {
     "data": {
      "text/plain": [
       "{'Science Fiction Horror': 'Stranger Things',\n",
       " 'Historical Drama': 'The Forgotten Army',\n",
       " 'Crime Drama': 'Too Old to Die Young',\n",
       " 'Science Fiction': 'Transformers: War for Cybertron Trilogy: Siege',\n",
       " 'Superhero Action': 'The Umbrella Academy',\n",
       " 'Zombie Drama': 'Black Summer',\n",
       " 'Science Fiction Drama': 'Another Life',\n",
       " 'Police Procedural Anthology Series': 'Criminal: UK',\n",
       " 'Superhero Science Fiction Drama': 'Raising Dion',\n",
       " 'Romantic Drama': 'Virgin River',\n",
       " 'Fantasy Drama': 'The Witcher',\n",
       " 'Horror Teen Drama': 'Locke & Key',\n",
       " 'Fantasy': 'Just Add Magic',\n",
       " 'Coming Of Age Drama': 'Trinkets',\n",
       " 'Romance Drama': 'Sweet Magnolias',\n",
       " 'Teen Drama': 'Free Rein',\n",
       " 'Anthology Series': 'Homemade',\n",
       " 'Detective Drama': 'Young Wallander',\n",
       " 'Drama': 'The Mess You Leave Behind',\n",
       " 'Horror': 'The Haunting of Bly Manor',\n",
       " 'Romance': 'Dash & Lily',\n",
       " 'Biopic': 'Selena: The Series',\n",
       " 'Teen Drama Fantasy': 'Fate: The Winx Saga',\n",
       " 'Comedy Drama': 'Orange Is the New Black',\n",
       " 'Comedy': 'Project Mc2',\n",
       " 'Satire Drama': 'Dear White People',\n",
       " 'Coming Of Age Comedy': 'Big Mouth',\n",
       " 'Sketch Comedy': 'I Think You Should Leave with Tim Robinson',\n",
       " 'Dark Comedy': 'Bonding',\n",
       " 'Black Comedy Drama': 'BoJack Horseman',\n",
       " 'Sitcom': 'The Ranch',\n",
       " 'Dramedy': 'The Baby-Sitters Club',\n",
       " 'Musical Comedy': 'Julie and the Phantoms',\n",
       " 'Medieval Fantasy Comedy': 'Disenchantment',\n",
       " 'Anthology': 'Love, Death & Robots',\n",
       " 'Mockumentary': 'Trailer Park Boys: The Animated Series',\n",
       " 'Science Fantasy Dark Comedy': 'The Midnight Gospel',\n",
       " 'War Drama': 'The Liberator',\n",
       " 'Dark Fantasy': 'Castlevania',\n",
       " 'Suspense': 'B: The Beginning',\n",
       " 'Workplace Comedy': 'Aggretsuko',\n",
       " \"Children'S Series\": 'Dino Girl Gauko',\n",
       " 'Disaster': 'Japan Sinks: 2020',\n",
       " 'Dark Fantasy Adventure': \"Dragon's Dogma\",\n",
       " 'Fantasy Action': 'The Idhun Chronicles',\n",
       " 'Romantic Comedy': 'Love',\n",
       " 'Supernatural Drama': 'Always a Witch',\n",
       " 'Thriller': 'The Minions of Midas',\n",
       " 'Police Procedural': 'Delhi Crime',\n",
       " 'Period Drama Comedy': 'The Naked Director',\n",
       " 'Period Horror Thriller': 'Kingdom',\n",
       " 'Drama Anthology Series': 'Persona',\n",
       " 'Teen Crime Drama': 'Extracurricular',\n",
       " 'Fantasy Superhero Drama': 'Ragnarok',\n",
       " 'Horror Anthology': 'Bloodride',\n",
       " 'Period Drama': 'Cable Girls',\n",
       " 'Zombie Horror': 'Reality Z',\n",
       " 'Awaiting Release': 'Awaiting release',\n",
       " 'Crime Teen Drama': 'Elite',\n",
       " 'Horror Fantasy Thriller': 'Diablero',\n",
       " 'Family Drama': 'Monarca',\n",
       " 'Superhero Comedy': 'The Neighbor',\n",
       " 'Sports Crime Drama': 'Puerta 7',\n",
       " 'Crime Anthology Series': 'Crime Diaries: The Candidate',\n",
       " 'Travel Documentary': 'Jack Whitehall: Travels with My Father',\n",
       " 'Documentary': 'Flint Town',\n",
       " 'Docu Series': \"ARASHI's Diary -Voyage-\",\n",
       " 'Sport': 'Maradona in Mexico',\n",
       " 'Culinary Art': \"Chef's Table\",\n",
       " 'Nature Documentary': 'Our Planet',\n",
       " 'Making Of': 'The Witcher: A Look Inside the Episodes',\n",
       " 'Coming Of Age Documentary': 'Deaf U',\n",
       " 'True Crime': 'The Disappearance of Madeleine McCann',\n",
       " 'Political Drama': 'House of Cards',\n",
       " 'Horror Thriller': 'Hemlock Grove',\n",
       " 'Superhero Fiction Crime Drama Legal Drama': 'Daredevil',\n",
       " 'Superhero Fiction Neo Noir Psychological Thriller': 'Jessica Jones',\n",
       " 'Musical Drama': 'The Get Down',\n",
       " 'Superhero Fiction Neo Blaxploitation Neo Western': 'Luke Cage',\n",
       " 'Mystery': 'The OA',\n",
       " 'Black Comedy Mystery': 'A Series of Unfortunate Events',\n",
       " 'Superhero Fiction Martial Arts': 'Iron Fist',\n",
       " 'Teen Drama Mystery': '13 Reasons Why',\n",
       " 'Psychological Thriller': 'Hand of God',\n",
       " 'Science Fiction Teen Drama': 'Greenhouse Academy',\n",
       " 'Superhero Fiction Crime Drama Conspiracy Thriller': 'The Punisher',\n",
       " 'Supernatural Fiction': 'The Innocents',\n",
       " 'Supernatural Coming Of Age Horror': 'Chilling Adventures of Sabrina',\n",
       " 'Supernatural Crime Drama': 'Tidelands',\n",
       " 'Supernatural Horror Drama': 'The Order',\n",
       " 'Teen Psychological Thriller': 'Chambers',\n",
       " 'Mystery Drama': 'Chase',\n",
       " 'Supernatural Martial Arts Drama': 'Wu Assassins',\n",
       " 'Science Fiction Horror Drama': 'V Wars',\n",
       " 'Romantic Comedy Anthology': 'Easy',\n",
       " 'Comedy Horror': 'Santa Clarita Diet',\n",
       " 'Comic Science Fiction': 'Mystery Science Theater 3000: The Return',\n",
       " 'Dark Comedy Drama': 'Insatiable',\n",
       " 'Police Procedural Comedy Drama': 'The Good Cop',\n",
       " 'Family Comedy': 'The Healing Powers of Dude',\n",
       " 'Satirical Comedy': 'Wet Hot American Summer: First Day of Camp',\n",
       " 'Superhero Action Drama': 'The Defenders',\n",
       " 'Western': 'Godless',\n",
       " 'Social Thriller Anthology': 'What/If',\n",
       " 'Science Fiction Thriller': 'The I-Land',\n",
       " 'Science Fantasy Comedy': 'Neo Yokio',\n",
       " 'Superhero Lgbt Comedy': 'Super Drags',\n",
       " 'Sitcom Television Comedy': 'Hoops',\n",
       " 'Supernatural Horror': 'Devilman Crybaby',\n",
       " 'Supernatural': 'Sword Gai: The Animation',\n",
       " 'Musical Fantasy': 'Lost Song',\n",
       " 'Martial Arts': 'Baki',\n",
       " 'Crime': 'Hero Mask',\n",
       " 'Stop Motion Slice Of Life': 'Rilakkuma and Kaoru',\n",
       " 'Action': 'Knights of the Zodiac: Saint Seiya',\n",
       " 'Supernatural Action': 'Seis Manos',\n",
       " 'Science Fiction Action': 'Levius',\n",
       " 'Supernatural Comedy': 'The Disastrous Life of Saiki K.: Reawakened',\n",
       " 'Fantasy Adventure': 'Jinn',\n",
       " 'Post Apocalyptic Drama': 'The Rain',\n",
       " 'Horror Drama': 'Ares',\n",
       " 'Espionage Thriller': 'Bard of Blood',\n",
       " 'Action Comedy': 'Blazing Transfer Students',\n",
       " 'Science Fiction Romance': 'My Holo Love',\n",
       " 'Crime Drama Romance': 'Triad Princess',\n",
       " 'Spy Thriller': '1983',\n",
       " 'Thriller Drama': 'The Chosen One',\n",
       " 'Musical': 'Go! Live Your Way',\n",
       " 'Mystery Period Drama': 'High Seas',\n",
       " 'Crime Drama Thriller': 'Green Frontier',\n",
       " 'Police Procedural Anthology': 'Criminal: Spain',\n",
       " 'Supernatural Mystery': 'The Protector',\n",
       " 'Biography': 'Abstract: The Art of Design',\n",
       " 'Psychological Drama': 'Wormwood',\n",
       " 'Nature': '72 Dangerous Animals: Latin America',\n",
       " 'History': 'Bobby Kennedy for President',\n",
       " 'Docudrama': 'Rise of Empires: Ottoman',\n",
       " 'Detective Fiction': 'Bosch',\n",
       " 'Alternative History': 'The Man in the High Castle',\n",
       " 'Legal Drama': 'Goliath',\n",
       " 'Historical Period Drama': 'Good Girls Revolt',\n",
       " 'Anthology Horror': 'Lore',\n",
       " 'Political Thriller': 'Jack Ryan',\n",
       " 'Superhero': 'The Boys',\n",
       " 'Young Adult Drama': 'The Wilds',\n",
       " 'Political Satire': 'Alpha House',\n",
       " 'Teen Sitcom Fantasy': \"Gortimer Gibbon's Life on Normal Street\",\n",
       " 'Teen Sitcom': 'The Kicks',\n",
       " 'Action Historical': 'Baahubali: The Lost Legends',\n",
       " 'Crime Thriller': 'Mirzapur',\n",
       " 'Sports Drama': 'Inside Edge',\n",
       " 'Horror Comedy': 'Shaitaan Haveli',\n",
       " 'Romantic Comedy Drama': 'Four More Shots Please!',\n",
       " 'Crime Thriller Action': 'Tandav',\n",
       " 'Action Horror': 'Kamen Rider Amazons',\n",
       " 'Science Fiction Comedy': 'Businessmen vs Aliens',\n",
       " 'Action Drama': 'Diablo Guardián',\n",
       " 'Cooking Comedy': \"Konta Teru's Legal Recipes\",\n",
       " 'Action Comedy Drama': 'Shonan Junai Gumi',\n",
       " 'Comedy Drama Anthology': 'Relatos con-fin-a-dos[a]',\n",
       " 'Mystery Thriller': 'La Jauría',\n",
       " 'Adventure': '3 Caminos',\n",
       " 'Sports Documentary': 'All or Nothing',\n",
       " 'Motoring': 'The Grand Tour',\n",
       " 'Cooking Documentary': 'Ishi-chan no Sake Tabi',\n",
       " 'Comedian Documentary': 'Inside Jokes',\n",
       " 'Docuseries': 'Lorena',\n",
       " 'Comedy Docudrama': 'True Story',\n",
       " 'Drug Documentary': 'The Last Narc',\n",
       " 'Cooking Show': 'James May: Oh Cook!'}"
      ]
     },
     "execution_count": 120,
     "metadata": {},
     "output_type": "execute_result"
    }
   ],
   "source": [
    "# Find the title name with highest number of seasons for each genre\n",
    "result = {}\n",
    "genres = df[\"genre\"].unique()\n",
    "for g in genres:\n",
    "    # select rows of that genre only\n",
    "    rows = df[df[\"genre\"] == g]\n",
    "    sorted_rows = rows.sort_values(\"seasons\", ascending = False)\n",
    "    title = sorted_rows.iloc[0]['title']\n",
    "    result[g] = title\n",
    "result"
   ]
  },
  {
   "cell_type": "markdown",
   "id": "fbd19e04",
   "metadata": {},
   "source": [
    "### Groupby"
   ]
  },
  {
   "cell_type": "code",
   "execution_count": 55,
   "id": "ca82c980",
   "metadata": {},
   "outputs": [
    {
     "data": {
      "text/html": [
       "<div>\n",
       "<style scoped>\n",
       "    .dataframe tbody tr th:only-of-type {\n",
       "        vertical-align: middle;\n",
       "    }\n",
       "\n",
       "    .dataframe tbody tr th {\n",
       "        vertical-align: top;\n",
       "    }\n",
       "\n",
       "    .dataframe thead th {\n",
       "        text-align: right;\n",
       "    }\n",
       "</style>\n",
       "<table border=\"1\" class=\"dataframe\">\n",
       "  <thead>\n",
       "    <tr style=\"text-align: right;\">\n",
       "      <th></th>\n",
       "      <th>Animal</th>\n",
       "      <th>Type</th>\n",
       "      <th>Max Speed</th>\n",
       "    </tr>\n",
       "  </thead>\n",
       "  <tbody>\n",
       "    <tr>\n",
       "      <th>0</th>\n",
       "      <td>Falcon</td>\n",
       "      <td>Captive</td>\n",
       "      <td>380.0</td>\n",
       "    </tr>\n",
       "    <tr>\n",
       "      <th>1</th>\n",
       "      <td>Falcon</td>\n",
       "      <td>Wild</td>\n",
       "      <td>370.0</td>\n",
       "    </tr>\n",
       "    <tr>\n",
       "      <th>2</th>\n",
       "      <td>Parrot</td>\n",
       "      <td>Captive</td>\n",
       "      <td>24.0</td>\n",
       "    </tr>\n",
       "    <tr>\n",
       "      <th>3</th>\n",
       "      <td>Parrot</td>\n",
       "      <td>Wild</td>\n",
       "      <td>26.0</td>\n",
       "    </tr>\n",
       "  </tbody>\n",
       "</table>\n",
       "</div>"
      ],
      "text/plain": [
       "   Animal     Type  Max Speed\n",
       "0  Falcon  Captive      380.0\n",
       "1  Falcon     Wild      370.0\n",
       "2  Parrot  Captive       24.0\n",
       "3  Parrot     Wild       26.0"
      ]
     },
     "execution_count": 55,
     "metadata": {},
     "output_type": "execute_result"
    }
   ],
   "source": [
    "df3 = pd.DataFrame({'Animal': ['Falcon', 'Falcon',\n",
    "                              'Parrot', 'Parrot'],\n",
    "                    'Type': ['Captive', 'Wild', \n",
    "                             'Captive', 'Wild'],\n",
    "                   'Max Speed': [380., 370., 24., 26.]})\n",
    "df3"
   ]
  },
  {
   "cell_type": "code",
   "execution_count": 56,
   "id": "dc4dc250",
   "metadata": {},
   "outputs": [
    {
     "data": {
      "text/html": [
       "<div>\n",
       "<style scoped>\n",
       "    .dataframe tbody tr th:only-of-type {\n",
       "        vertical-align: middle;\n",
       "    }\n",
       "\n",
       "    .dataframe tbody tr th {\n",
       "        vertical-align: top;\n",
       "    }\n",
       "\n",
       "    .dataframe thead th {\n",
       "        text-align: right;\n",
       "    }\n",
       "</style>\n",
       "<table border=\"1\" class=\"dataframe\">\n",
       "  <thead>\n",
       "    <tr style=\"text-align: right;\">\n",
       "      <th></th>\n",
       "      <th>Mean</th>\n",
       "    </tr>\n",
       "    <tr>\n",
       "      <th>Type</th>\n",
       "      <th></th>\n",
       "    </tr>\n",
       "  </thead>\n",
       "  <tbody>\n",
       "    <tr>\n",
       "      <th>Captive</th>\n",
       "      <td>202.0</td>\n",
       "    </tr>\n",
       "    <tr>\n",
       "      <th>Wild</th>\n",
       "      <td>198.0</td>\n",
       "    </tr>\n",
       "  </tbody>\n",
       "</table>\n",
       "</div>"
      ],
      "text/plain": [
       "          Mean\n",
       "Type          \n",
       "Captive  202.0\n",
       "Wild     198.0"
      ]
     },
     "execution_count": 56,
     "metadata": {},
     "output_type": "execute_result"
    }
   ],
   "source": [
    "# Groupby\n",
    "\n",
    "grouped = df3.groupby(['Type']).mean()\n",
    "grouped.columns = ['Mean']\n",
    "grouped"
   ]
  },
  {
   "cell_type": "code",
   "execution_count": 57,
   "id": "c72c071b",
   "metadata": {},
   "outputs": [
    {
     "data": {
      "text/html": [
       "<div>\n",
       "<style scoped>\n",
       "    .dataframe tbody tr th:only-of-type {\n",
       "        vertical-align: middle;\n",
       "    }\n",
       "\n",
       "    .dataframe tbody tr th {\n",
       "        vertical-align: top;\n",
       "    }\n",
       "\n",
       "    .dataframe thead th {\n",
       "        text-align: right;\n",
       "    }\n",
       "</style>\n",
       "<table border=\"1\" class=\"dataframe\">\n",
       "  <thead>\n",
       "    <tr style=\"text-align: right;\">\n",
       "      <th></th>\n",
       "      <th>seasons</th>\n",
       "      <th>episodes</th>\n",
       "      <th>new_col</th>\n",
       "    </tr>\n",
       "    <tr>\n",
       "      <th>genre</th>\n",
       "      <th></th>\n",
       "      <th></th>\n",
       "      <th></th>\n",
       "    </tr>\n",
       "  </thead>\n",
       "  <tbody>\n",
       "    <tr>\n",
       "      <th>Action</th>\n",
       "      <td>2.0</td>\n",
       "      <td>14.0</td>\n",
       "      <td>28.0</td>\n",
       "    </tr>\n",
       "    <tr>\n",
       "      <th>Action Comedy</th>\n",
       "      <td>1.0</td>\n",
       "      <td>8.0</td>\n",
       "      <td>8.0</td>\n",
       "    </tr>\n",
       "    <tr>\n",
       "      <th>Action Comedy Drama</th>\n",
       "      <td>1.0</td>\n",
       "      <td>8.0</td>\n",
       "      <td>8.0</td>\n",
       "    </tr>\n",
       "    <tr>\n",
       "      <th>Action Drama</th>\n",
       "      <td>1.5</td>\n",
       "      <td>15.0</td>\n",
       "      <td>24.0</td>\n",
       "    </tr>\n",
       "    <tr>\n",
       "      <th>Action Historical</th>\n",
       "      <td>3.0</td>\n",
       "      <td>47.5</td>\n",
       "      <td>189.5</td>\n",
       "    </tr>\n",
       "    <tr>\n",
       "      <th>...</th>\n",
       "      <td>...</td>\n",
       "      <td>...</td>\n",
       "      <td>...</td>\n",
       "    </tr>\n",
       "    <tr>\n",
       "      <th>Western</th>\n",
       "      <td>1.0</td>\n",
       "      <td>7.0</td>\n",
       "      <td>7.0</td>\n",
       "    </tr>\n",
       "    <tr>\n",
       "      <th>Workplace Comedy</th>\n",
       "      <td>3.0</td>\n",
       "      <td>30.0</td>\n",
       "      <td>90.0</td>\n",
       "    </tr>\n",
       "    <tr>\n",
       "      <th>Young Adult Drama</th>\n",
       "      <td>1.0</td>\n",
       "      <td>10.0</td>\n",
       "      <td>10.0</td>\n",
       "    </tr>\n",
       "    <tr>\n",
       "      <th>Zombie Drama</th>\n",
       "      <td>1.0</td>\n",
       "      <td>8.0</td>\n",
       "      <td>8.0</td>\n",
       "    </tr>\n",
       "    <tr>\n",
       "      <th>Zombie Horror</th>\n",
       "      <td>1.0</td>\n",
       "      <td>10.0</td>\n",
       "      <td>10.0</td>\n",
       "    </tr>\n",
       "  </tbody>\n",
       "</table>\n",
       "<p>170 rows × 3 columns</p>\n",
       "</div>"
      ],
      "text/plain": [
       "                     seasons  episodes  new_col\n",
       "genre                                          \n",
       "Action                   2.0      14.0     28.0\n",
       "Action Comedy            1.0       8.0      8.0\n",
       "Action Comedy Drama      1.0       8.0      8.0\n",
       "Action Drama             1.5      15.0     24.0\n",
       "Action Historical        3.0      47.5    189.5\n",
       "...                      ...       ...      ...\n",
       "Western                  1.0       7.0      7.0\n",
       "Workplace Comedy         3.0      30.0     90.0\n",
       "Young Adult Drama        1.0      10.0     10.0\n",
       "Zombie Drama             1.0       8.0      8.0\n",
       "Zombie Horror            1.0      10.0     10.0\n",
       "\n",
       "[170 rows x 3 columns]"
      ]
     },
     "execution_count": 57,
     "metadata": {},
     "output_type": "execute_result"
    }
   ],
   "source": [
    "# Mean seasons and episodes for each genre\n",
    "# Shows mean for all numeric columns\n",
    "\n",
    "df.groupby(['genre']).mean()"
   ]
  },
  {
   "cell_type": "code",
   "execution_count": 58,
   "id": "7e259fb5",
   "metadata": {},
   "outputs": [
    {
     "data": {
      "text/plain": [
       "genre\n",
       "Action                    March 29, 2019\n",
       "Action Comedy          November 10, 2017\n",
       "Action Comedy Drama    February 28, 2020\n",
       "Action Drama                 May 4, 2018\n",
       "Action Historical       October 10, 2019\n",
       "                             ...        \n",
       "Western                November 22, 2017\n",
       "Workplace Comedy          April 20, 2018\n",
       "Young Adult Drama      December 11, 2020\n",
       "Zombie Drama              April 11, 2019\n",
       "Zombie Horror              June 10, 2020\n",
       "Name: premiere, Length: 170, dtype: object"
      ]
     },
     "execution_count": 58,
     "metadata": {},
     "output_type": "execute_result"
    }
   ],
   "source": [
    "# Latest premiere date in each genre\n",
    "\n",
    "df.groupby(['genre']).max()['premiere']"
   ]
  }
 ],
 "metadata": {
  "kernelspec": {
   "display_name": "Python 3 (ipykernel)",
   "language": "python",
   "name": "python3"
  },
  "language_info": {
   "codemirror_mode": {
    "name": "ipython",
    "version": 3
   },
   "file_extension": ".py",
   "mimetype": "text/x-python",
   "name": "python",
   "nbconvert_exporter": "python",
   "pygments_lexer": "ipython3",
   "version": "3.9.6"
  }
 },
 "nbformat": 4,
 "nbformat_minor": 5
}
